{
 "cells": [
  {
   "cell_type": "markdown",
   "id": "2c03f790-bc38-4833-83c1-bce6b7d082f6",
   "metadata": {},
   "source": [
    "# DSPy"
   ]
  },
  {
   "cell_type": "markdown",
   "id": "a68a0adf-97d1-4e46-94e8-32a616a58bfa",
   "metadata": {},
   "source": [
    "## What?\n",
    "Framework to algorithmically optimizing LM prompts and weights."
   ]
  },
  {
   "cell_type": "markdown",
   "id": "bfb298f5-6290-49a1-a1ef-0e339f60d697",
   "metadata": {},
   "source": [
    "## Why?\n",
    "Using LMs to build a complex system we generally have to: \n",
    "- Break the problem down into steps\n",
    "- Prompt your LM well until each step works well in isolation\n",
    "- Tweak the steps to work well together\n",
    "- Generate synthetic examples to tune each step\n",
    "- Use these examples to finetune smaller LMs to cut costs.\n",
    "\n",
    "Currently, this is hard and messy: every time you change your pipeline, your LM, or your data, all prompts (or finetuning steps) may need to change."
   ]
  },
  {
   "cell_type": "markdown",
   "id": "ea4b790f-3593-4856-8511-f3f708b75db5",
   "metadata": {},
   "source": [
    "## How?\n",
    "DSPy breaks this process into following three abstractions:\n",
    "- **Signatures:** Abstract the input and output behaviour\n",
    "- **Modules:** Defines the flow of your program and sets up a pipeline. E.g of modules: `Predict`, `ChainOfThought`, `ProgramOfThought`, `MultiChainComparison` and `React`.\n",
    "- **Optimizers:** Also known as `Teleprompters`, it takes the program, a training set and an evaluation metric and returns a new optimized program for the required use-case. Used to train smaller LMs (student) using larger LMs (teacher).\n",
    "\n",
    "> Training Set can be small or have incomplete examples or without labels unless needed to be used in metric.\n",
    "Metric can be `Exact Match (EM)` or `F1` or any custom defined metric"
   ]
  },
  {
   "cell_type": "markdown",
   "id": "87cd9813-2afd-4189-82ac-c8f8eb664737",
   "metadata": {},
   "source": [
    "## DSPy Architecture"
   ]
  },
  {
   "cell_type": "markdown",
   "id": "8f45a43d-37a6-4e87-8916-00407f6e5099",
   "metadata": {},
   "source": [
    "![dspy_arch](./assets/dspy_arch.png)"
   ]
  },
  {
   "cell_type": "markdown",
   "id": "efb6a062-aa54-4ecf-bdb5-9cfcfb49adf2",
   "metadata": {},
   "source": [
    "### Signature:\n",
    "Use signature to tell, `what to do`, instead of `how to do`. Need not write huge prompts.\n",
    "DSPy supports inline short strings as signatures, can always write custom classes for the same.\n",
    "\n",
    "Some signatures available in DSPy:\n",
    "\n",
    "| Task                        | Signature                      |\n",
    "|-----------------------------|--------------------------------|\n",
    "| Question-Answering         | \"question -> answer\"           |\n",
    "| Summarization               | \"document -> summary\"          |\n",
    "| Sentiment classification    | \"sentence -> sentiment\"        |\n",
    "| RAG                         | \"context, question -> answer\"  |\n",
    "| MCQs with Reasoning        | \"question, choices -> reasoning, selection\" |\n"
   ]
  },
  {
   "cell_type": "markdown",
   "id": "9f1cbedc-74ac-414f-b012-1c05832c9bdd",
   "metadata": {},
   "source": [
    "### Module:\n",
    "Takes the signature and converts it into a sophisticated prompt, based on a given technique and LLM used. Can be thought of as a model layer defined in Pytorch that learns from data (input/output)."
   ]
  },
  {
   "cell_type": "markdown",
   "id": "8ac58f58-0541-4329-9c03-88f31477b927",
   "metadata": {},
   "source": [
    "### Optimizer:\n",
    "DSPy optimizer can optimize 3 things\n",
    "- LM weights\n",
    "- Instructions (Prompt/Signature)\n",
    "- Demonstrations of Input-Ouput Behaviour\n",
    "\n",
    "Current available optimizers: [https://dspy-docs.vercel.app/docs/building-blocks/optimizers#what-dspy-optimizers-are-currently-available](https://dspy-docs.vercel.app/docs/building-blocks/optimizers#what-dspy-optimizers-are-currently-available)"
   ]
  },
  {
   "cell_type": "markdown",
   "id": "4e2fe867-8f1f-4b24-a509-f13bd84d1b4a",
   "metadata": {},
   "source": [
    "#### Which optimizer should I use?\n",
    "As a rule of thumb, if you don't know where to start, use `BootstrapFewShotWithRandomSearch`.\n",
    "\n",
    "Here's the general guidance on getting started:\n",
    "- If you have `very little data`, e.g. 10 examples of your task, use `BootstrapFewShot`.\n",
    "- If you have `slightly more data`, e.g. 50 examples of your task, use `BootstrapFewShotWithRandomSearch`.\n",
    "- If you have `more data than that`, e.g. 300 examples or more, use `MIPRO`.\n",
    "- If you have been able to use one of these with a `large LM` (e.g., 7B parameters or above) and need a very efficient program, `compile` that down to a `small LM` with `BootstrapFinetune`."
   ]
  },
  {
   "cell_type": "markdown",
   "id": "732c9b43-422e-4822-a342-d08fe125088c",
   "metadata": {},
   "source": [
    "## General Workflow\n",
    "Whatever the task, the general workflow is:\n",
    "\n",
    "- Collect a little bit of data.\n",
    "- Define examples of the inputs and outputs of your program (e.g., questions and their answers). This could just be a handful of quick examples you wrote down. If large datasets exist, the more the merrier!\n",
    "- Define the modules (i.e., sub-tasks) of your program and the way they should interact together to solve your task.\n",
    "- Define some validation logic. What makes for a good run of your program? Maybe the answers need to have a certain length or stick to a particular format? Specify the logic that checks that.\n",
    "- Compile! Ask DSPy to compile your program using your data. The compiler will use your data and validation logic to optimize your program (e.g., prompts and modules) so it's efficient and effective!Iterate.\n",
    "- Repeat the process by improving your data, program, validation, or by using more advanced features of the DSPy compiler."
   ]
  },
  {
   "cell_type": "markdown",
   "id": "ae50aec8-78fe-4f21-8483-9b9abb9e2361",
   "metadata": {},
   "source": [
    "## Demo - RAG (Unoptimized)"
   ]
  },
  {
   "cell_type": "markdown",
   "id": "53d845e2-deda-40cb-a65e-47ed9f4027b0",
   "metadata": {},
   "source": [
    "We shall try RAG on truefoundry docs that are ingested in local docker based Qdrant deployment "
   ]
  },
  {
   "cell_type": "code",
   "execution_count": 1,
   "id": "78b000fb-08dc-419c-963a-b8f13730efec",
   "metadata": {},
   "outputs": [],
   "source": [
    "# First need the embedding\n",
    "from embeddings.mixedbread import MixBreadEmbeddings\n",
    "embedding_model = MixBreadEmbeddings(\n",
    "    model_name=\"mixedbread-ai/mxbai-embed-large-v1\"\n",
    ")"
   ]
  },
  {
   "cell_type": "code",
   "execution_count": 2,
   "id": "aad07409-8d31-4657-9744-d2e4735947e1",
   "metadata": {},
   "outputs": [],
   "source": [
    "# Set up Retriever\n",
    "from vectordb.qdrant import CustomQdrantRetriever, QdrantClient\n",
    "\n",
    "qdrant_client = QdrantClient(url=\"http://localhost:6333\")\n",
    "retriever = CustomQdrantRetriever(\n",
    "    qdrant_collection_name=\"tfdocs\", \n",
    "    qdrant_client=qdrant_client, \n",
    "    embedding_model=embedding_model,\n",
    "    k=5,\n",
    ")\n"
   ]
  },
  {
   "cell_type": "code",
   "execution_count": 3,
   "id": "9153bd82-7329-469f-b18d-199a2162a8b7",
   "metadata": {},
   "outputs": [
    {
     "data": {
      "application/vnd.jupyter.widget-view+json": {
       "model_id": "c2fe544837da4523b821ee1f2a2cb44d",
       "version_major": 2,
       "version_minor": 0
      },
      "text/plain": [
       "  0%|          | 0/1 [00:00<?, ?it/s]"
      ]
     },
     "metadata": {},
     "output_type": "display_data"
    },
    {
     "data": {
      "application/vnd.jupyter.widget-view+json": {
       "model_id": "1da0d35ce8cb44e98c07b8e6112bfc51",
       "version_major": 2,
       "version_minor": 0
      },
      "text/plain": [
       "  0%|          | 0/1 [00:00<?, ?it/s]"
      ]
     },
     "metadata": {},
     "output_type": "display_data"
    },
    {
     "data": {
      "text/plain": [
       "['---\\ntitle: \"About TrueFoundry\"\\nslug: \"introduction\"\\nexcerpt: \"\"\\nhidden: false\\ncreatedAt: \"Mon Oct 17 2022 11:07:50 GMT+0000 (Coordinated Universal Time)\"\\nupdatedAt: \"Wed Dec 06 2023 11:53:56 GMT+0000 (Coordinated Universal Time)\"\\n---\\n**TrueFoundry** is a platform on Kubernetes that makes it really easy to build, track, and deploy models without having a detailed understanding of Kubernetes. TrueFoundry is deployed on a cluster on your own cloud, so the data never leaves your environment, and you don\\'t incur any data egress costs.',\n",
       " '---\\ntitle: \"Introduction to a Service\"\\nslug: \"introduction-to-a-service\"\\nexcerpt: \"\"\\nhidden: false\\ncreatedAt: \"Thu Oct 26 2023 02:02:12 GMT+0000 (Coordinated Universal Time)\"\\nupdatedAt: \"Thu Dec 07 2023 20:15:11 GMT+0000 (Coordinated Universal Time)\"\\n---\\nA Truefoundry Service represents a continuously running application that typically provides a set of APIs for interaction. Services can be dynamically scaled based on incoming traffic or resource demands.\\nServices are perfect for scenarios where real-time responses are essential, such as:\\n- Hosting Real-time Model Inference (e.g., Flask, FastAPI)\\n- Fueling Dynamic Website Backends\\n- Creating Model Demos (e.g., Streamlit, Gradio)']"
      ]
     },
     "execution_count": 3,
     "metadata": {},
     "output_type": "execute_result"
    }
   ],
   "source": [
    "# also have other keys like metadata & score\n",
    "retriever([\"What is TrueFoundry\", \"What is a service\"], k=2).passages"
   ]
  },
  {
   "cell_type": "code",
   "execution_count": 4,
   "id": "8487132f-a8de-40de-99ba-f9d267b490a5",
   "metadata": {},
   "outputs": [],
   "source": [
    "# Set up LLM\n",
    "from dspy import OllamaLocal\n",
    "\n",
    "llm = OllamaLocal(\n",
    "    model=\"mistral:latest\", \n",
    "    model_type=\"text\", \n",
    "    max_tokens=1024, \n",
    "    top_p=1, \n",
    "    top_k=20, \n",
    "    base_url=\"http://localhost:11434\", \n",
    ")"
   ]
  },
  {
   "cell_type": "code",
   "execution_count": 5,
   "id": "58b81693-a7b9-4af1-8cee-dd1564c66240",
   "metadata": {},
   "outputs": [],
   "source": [
    "# Configure the settings\n",
    "import dspy\n",
    "dspy.configure(lm=llm)"
   ]
  },
  {
   "cell_type": "code",
   "execution_count": 6,
   "id": "32872036-8818-4f38-95af-20331821f0b6",
   "metadata": {},
   "outputs": [],
   "source": [
    "# Generate Signature for Input\n",
    "class GenerateAnswer(dspy.Signature):\n",
    "    \"\"\"Answer only based on the given context\"\"\"\n",
    "\n",
    "    context = dspy.InputField(desc=\"Contains relevant context to answer the question\")\n",
    "    question = dspy.InputField()\n",
    "    answer = dspy.OutputField(desc=\"Detailed answer with respect to given question and context\")"
   ]
  },
  {
   "cell_type": "code",
   "execution_count": 7,
   "id": "ce9d0fb9-7f9f-47d1-8485-4d25f7cd7318",
   "metadata": {},
   "outputs": [],
   "source": [
    "# Create a RAG module\n",
    "class RAG(dspy.Module):\n",
    "\n",
    "    def __init__(self, retriever: dspy.Retrieve, k: int = 5):\n",
    "        super().__init__()\n",
    "        \n",
    "        self.k = k\n",
    "        self.retriever = retriever\n",
    "        self.generate_answer = dspy.ChainOfThought(signature=GenerateAnswer)\n",
    "\n",
    "    def forward(self, question, k=None):\n",
    "        retrieved = self.retriever(question, k)\n",
    "        prediction = self.generate_answer(context=retrieved.passages, question=question)\n",
    "\n",
    "        # Return passages, answer, metadata and score\n",
    "        return dspy.Prediction(context=retrieved.passages, answer=prediction.answer, metadata=retrieved.metadata, score=retrieved.probs)"
   ]
  },
  {
   "cell_type": "code",
   "execution_count": 8,
   "id": "87fcff52-9136-4f37-ae9a-dda0634ba1c9",
   "metadata": {
    "scrolled": true
   },
   "outputs": [
    {
     "data": {
      "application/vnd.jupyter.widget-view+json": {
       "model_id": "ba3551f25a7841f8870ee1e963a1ac20",
       "version_major": 2,
       "version_minor": 0
      },
      "text/plain": [
       "  0%|          | 0/1 [00:00<?, ?it/s]"
      ]
     },
     "metadata": {},
     "output_type": "display_data"
    },
    {
     "name": "stdout",
     "output_type": "stream",
     "text": [
      "Answer: A Truefoundry service is an application or model that has been deployed on the TrueFoundry platform using Kubernetes for easy building, tracking, and deployment without requiring extensive knowledge of Kubernetes. It is hosted on a cluster in your own cloud, ensuring data security and eliminating data egress costs. The logs, metrics, and events provided by TrueFoundry are used to monitor these services and identify and debug issues.\n",
      "====================================\n",
      "\n",
      "\n",
      "Context: ---\n",
      "title: \"Introduction to a Service\"\n",
      "slug: \"introduction-to-a-service\"\n",
      "excerpt: \"\"\n",
      "hidden: false\n",
      "createdAt: \"Thu Oct 26 2023 02:02:12 GMT+0000 (Coordinated Universal Time)\"\n",
      "updatedAt: \"Thu Dec 07 2023 20:15:11 GMT+0000 (Coordinated Universal Time)\"\n",
      "---\n",
      "A Truefoundry Service represents a continuously running application that typically provides a set of APIs for interaction. Services can be dynamically scaled based on incoming traffic or resource demands.\n",
      "Services are perfect for scenarios where real-time responses are essential, such as:\n",
      "- Hosting Real-time Model Inference (e.g., Flask, FastAPI)\n",
      "- Fueling Dynamic Website Backends\n",
      "- Creating Model Demos (e.g., Streamlit, Gradio)\n",
      "------------------------------------\n",
      "Metadata: {'_data_point_fqn': 'localdir::sample-data/truefoundry-docs::Service/introduction-to-a-service.md', '_data_point_hash': '2499', 'score': 0.8201641}\n",
      "\n",
      "\n",
      "====================================\n",
      "Context: # Services\n",
      "## Key Considerations when building a service\n",
      "A Service typically exposes APIs on designated ports. These ports can be mapped to domains, enabling external calls to the Service. We need to be mindful of the following things while deploying a service:\n",
      "1. Dockerizing the code that will be deployed\n",
      "2. Defining the ports on which the service can be exposed\n",
      "3. [Optional] Mapping domains to the port using which other applications can talk to our service.\n",
      "4. [Optional] Defining environment variables and secrets to be injected into the code\n",
      "5. [Optional] Defining an autoscaling policy in case of production workloads\n",
      "6. [Best Practice] Defining the Liveness / Readiness Probe\n",
      "7. [Best Practice] Define a rollout strategy\n",
      "8. [Optional] Mount files / volumes to your service\n",
      "9. Set up Monitoring Dashboards\n",
      "10. Set up alerting\n",
      "------------------------------------\n",
      "Metadata: {'Header1': 'Services', 'Header2': 'Key Considerations when building a service', '_data_point_fqn': 'localdir::sample-data/truefoundry-docs::Service Depricated/introduction-to-service.md', '_data_point_hash': '1505', 'score': 0.8015071}\n",
      "\n",
      "\n",
      "====================================\n",
      "Context: ---\n",
      "title: \"About TrueFoundry\"\n",
      "slug: \"introduction\"\n",
      "excerpt: \"\"\n",
      "hidden: false\n",
      "createdAt: \"Mon Oct 17 2022 11:07:50 GMT+0000 (Coordinated Universal Time)\"\n",
      "updatedAt: \"Wed Dec 06 2023 11:53:56 GMT+0000 (Coordinated Universal Time)\"\n",
      "---\n",
      "**TrueFoundry** is a platform on Kubernetes that makes it really easy to build, track, and deploy models without having a detailed understanding of Kubernetes. TrueFoundry is deployed on a cluster on your own cloud, so the data never leaves your environment, and you don't incur any data egress costs.\n",
      "------------------------------------\n",
      "Metadata: {'_data_point_fqn': 'localdir::sample-data/truefoundry-docs::Getting Started/introduction.md', '_data_point_hash': '3349', 'score': 0.7601848}\n",
      "\n",
      "\n",
      "====================================\n",
      "Context: ## Create your account on TrueFoundry\n",
      "### Step 1. Fill out the registration form\n",
      "1. To register for a TrueFoundry account please navigate to the [\"Create your account\"](https://www.truefoundry.com/register) page.\n",
      "2. In the “Create your account” form, specify your company name, work email, username, and password, and click the “Create Account” button.\n",
      "**Please note:** The value you enter in the company name field will be used to create a unique URL that you will use to access your TrueFoundry account. For example, if you enter “chat-io” then your access URL will be “chat-io.truefoundry.cloud”\n",
      "[block:embed]\n",
      "{\n",
      "\"html\": false,\n",
      "\"url\": \"https://app.supademo.com/embed/cy9jKarluSquXRK2u8gW_ \",\n",
      "\"provider\": \"app.supademo.com\",\n",
      "\"href\": \"https://app.supademo.com/embed/cy9jKarluSquXRK2u8gW_ \",\n",
      "\"typeOfEmbed\": \"iframe\",\n",
      "\"height\": \"475px\",\n",
      "\"width\": \"100%\",\n",
      "\"iframe\": true\n",
      "}\n",
      "[/block]\n",
      "------------------------------------\n",
      "Metadata: {'Header2': 'Create your account on TrueFoundry', 'Header3': 'Step 1. Fill out the registration form', '_data_point_fqn': 'localdir::sample-data/truefoundry-docs::Getting Started/create-and-setup-your-account.md', '_data_point_hash': '7785', 'score': 0.733125}\n",
      "\n",
      "\n",
      "====================================\n",
      "Context: ---\n",
      "title: \"Monitor your Service\"\n",
      "slug: \"monitor-your-service\"\n",
      "excerpt: \"\"\n",
      "hidden: false\n",
      "createdAt: \"Mon Oct 30 2023 05:27:05 GMT+0000 (Coordinated Universal Time)\"\n",
      "updatedAt: \"Fri Dec 08 2023 15:00:45 GMT+0000 (Coordinated Universal Time)\"\n",
      "---\n",
      "TrueFoundry provides you with Logs, Metrics and Events to monitor your deployments to identify and debug issues.\n",
      "------------------------------------\n",
      "Metadata: {'_data_point_fqn': 'localdir::sample-data/truefoundry-docs::Service/monitor-your-service.md', '_data_point_hash': '5781', 'score': 0.72307426}\n",
      "\n",
      "\n",
      "====================================\n"
     ]
    }
   ],
   "source": [
    "# Ask any question you like to this simple RAG program.\n",
    "my_question = \"What is a Truefoundry service?\"\n",
    "uncompiled_rag = RAG(retriever=retriever, k=2)\n",
    "# Get the prediction. This contains `pred.context` and `pred.answer`.\n",
    "prediction = uncompiled_rag(my_question)\n",
    "\n",
    "print(f\"Answer: {prediction.answer}\")\n",
    "print(\"====================================\\n\\n\")\n",
    "\n",
    "for context, metadata in zip(prediction.context, prediction.metadata):\n",
    "    print(f\"Context: {context}\")\n",
    "    print(\"------------------------------------\")\n",
    "    print(f\"Metadata: {metadata}\")\n",
    "    print(\"\\n\\n====================================\")\n"
   ]
  },
  {
   "cell_type": "code",
   "execution_count": 9,
   "id": "4fc56a58-ac40-4eee-a316-9f9b54b72619",
   "metadata": {
    "scrolled": true
   },
   "outputs": [
    {
     "name": "stdout",
     "output_type": "stream",
     "text": [
      "\n",
      "\n",
      "\n",
      "\n",
      "Answer only based on the given context\n",
      "\n",
      "---\n",
      "\n",
      "Follow the following format.\n",
      "\n",
      "Context: Contains relevant context to answer the question\n",
      "\n",
      "Question: ${question}\n",
      "\n",
      "Reasoning: Let's think step by step in order to ${produce the answer}. We ...\n",
      "\n",
      "Answer: Detailed answer with respect to given question and context\n",
      "\n",
      "---\n",
      "\n",
      "Context:\n",
      "[1] «---\n",
      "title: \"Introduction to a Service\"\n",
      "slug: \"introduction-to-a-service\"\n",
      "excerpt: \"\"\n",
      "hidden: false\n",
      "createdAt: \"Thu Oct 26 2023 02:02:12 GMT+0000 (Coordinated Universal Time)\"\n",
      "updatedAt: \"Thu Dec 07 2023 20:15:11 GMT+0000 (Coordinated Universal Time)\"\n",
      "---\n",
      "A Truefoundry Service represents a continuously running application that typically provides a set of APIs for interaction. Services can be dynamically scaled based on incoming traffic or resource demands.\n",
      "Services are perfect for scenarios where real-time responses are essential, such as:\n",
      "- Hosting Real-time Model Inference (e.g., Flask, FastAPI)\n",
      "- Fueling Dynamic Website Backends\n",
      "- Creating Model Demos (e.g., Streamlit, Gradio)»\n",
      "[2] «# Services\n",
      "## Key Considerations when building a service\n",
      "A Service typically exposes APIs on designated ports. These ports can be mapped to domains, enabling external calls to the Service. We need to be mindful of the following things while deploying a service:\n",
      "1. Dockerizing the code that will be deployed\n",
      "2. Defining the ports on which the service can be exposed\n",
      "3. [Optional] Mapping domains to the port using which other applications can talk to our service.\n",
      "4. [Optional] Defining environment variables and secrets to be injected into the code\n",
      "5. [Optional] Defining an autoscaling policy in case of production workloads\n",
      "6. [Best Practice] Defining the Liveness / Readiness Probe\n",
      "7. [Best Practice] Define a rollout strategy\n",
      "8. [Optional] Mount files / volumes to your service\n",
      "9. Set up Monitoring Dashboards\n",
      "10. Set up alerting»\n",
      "[3] «---\n",
      "title: \"About TrueFoundry\"\n",
      "slug: \"introduction\"\n",
      "excerpt: \"\"\n",
      "hidden: false\n",
      "createdAt: \"Mon Oct 17 2022 11:07:50 GMT+0000 (Coordinated Universal Time)\"\n",
      "updatedAt: \"Wed Dec 06 2023 11:53:56 GMT+0000 (Coordinated Universal Time)\"\n",
      "---\n",
      "**TrueFoundry** is a platform on Kubernetes that makes it really easy to build, track, and deploy models without having a detailed understanding of Kubernetes. TrueFoundry is deployed on a cluster on your own cloud, so the data never leaves your environment, and you don't incur any data egress costs.»\n",
      "[4] «## Create your account on TrueFoundry\n",
      "### Step 1. Fill out the registration form\n",
      "1. To register for a TrueFoundry account please navigate to the [\"Create your account\"](https://www.truefoundry.com/register) page.\n",
      "2. In the “Create your account” form, specify your company name, work email, username, and password, and click the “Create Account” button.\n",
      "**Please note:** The value you enter in the company name field will be used to create a unique URL that you will use to access your TrueFoundry account. For example, if you enter “chat-io” then your access URL will be “chat-io.truefoundry.cloud”\n",
      "[block:embed]\n",
      "{\n",
      "\"html\": false,\n",
      "\"url\": \"https://app.supademo.com/embed/cy9jKarluSquXRK2u8gW_ \",\n",
      "\"provider\": \"app.supademo.com\",\n",
      "\"href\": \"https://app.supademo.com/embed/cy9jKarluSquXRK2u8gW_ \",\n",
      "\"typeOfEmbed\": \"iframe\",\n",
      "\"height\": \"475px\",\n",
      "\"width\": \"100%\",\n",
      "\"iframe\": true\n",
      "}\n",
      "[/block]»\n",
      "[5] «---\n",
      "title: \"Monitor your Service\"\n",
      "slug: \"monitor-your-service\"\n",
      "excerpt: \"\"\n",
      "hidden: false\n",
      "createdAt: \"Mon Oct 30 2023 05:27:05 GMT+0000 (Coordinated Universal Time)\"\n",
      "updatedAt: \"Fri Dec 08 2023 15:00:45 GMT+0000 (Coordinated Universal Time)\"\n",
      "---\n",
      "TrueFoundry provides you with Logs, Metrics and Events to monitor your deployments to identify and debug issues.»\n",
      "\n",
      "Question: What is a Truefoundry service?\n",
      "\n",
      "Reasoning: Let's think step by step in order to understand the context of the question. From the provided text snippets, we can infer that \"TrueFoundry\" is a platform on Kubernetes for building, tracking, and deploying models without requiring extensive knowledge of Kubernetes. It is deployed on a cluster in your own cloud, ensuring data security and eliminating data egress costs. The term \"service\" is mentioned in the context of monitoring, where TrueFoundry provides logs, metrics, and events to monitor deployments and identify issues. Based on this information, we can assume that a \"Truefoundry service\" refers to a deployed application or model on the TrueFoundry platform.\n",
      "\n",
      "Answer:\u001b[32m A Truefoundry service is an application or model that has been deployed on the TrueFoundry platform using Kubernetes for easy building, tracking, and deployment without requiring extensive knowledge of Kubernetes. It is hosted on a cluster in your own cloud, ensuring data security and eliminating data egress costs. The logs, metrics, and events provided by TrueFoundry are used to monitor these services and identify and debug issues.\u001b[0m\n",
      "\n",
      "\n",
      "\n"
     ]
    }
   ],
   "source": [
    "# Track llm history\n",
    "llm.inspect_history(n=1)"
   ]
  },
  {
   "cell_type": "markdown",
   "id": "968418b9-ed29-4e40-9d44-db0167b2ad3c",
   "metadata": {},
   "source": [
    "## Demo - RAG (Optimized)"
   ]
  },
  {
   "cell_type": "code",
   "execution_count": 10,
   "id": "67937625-a908-46d0-9fad-bde455d8a058",
   "metadata": {},
   "outputs": [],
   "source": [
    "# Create Train and Test examples - Can also use HF Datasets\n",
    "train = [\n",
    "    {\n",
    "        \"question\" : \"What factors influence the dynamic adjustment of the number of replicas in autoscaling, and how is the autoscaling strategy determined based on the Queue Backlog?\",\n",
    "        \"answer\" : \"The dynamic adjustment of the number of replicas in autoscaling is influenced by the fluctuation in traffic or resource usage. Specifically, the autoscaling strategy is determined based on the Queue Backlog. When traffic or resource usage varies, the autoscaling strategy evaluates the Queue Backlog to decide the appropriate number of replicas between the defined minimum and maximum replica counts.\"\n",
    "    }, \n",
    "    {\n",
    "        \"question\" : \"What role do autoscaling metrics play in dynamically adjusting resource allocation for an async service?\",\n",
    "        \"answer\" : \"Autoscaling metrics play a crucial role in dynamically adjusting resource allocation for an async service by monitoring and responding to changing demands while maintaining optimal performance. These metrics, such as AWS SQS Average Backlog, provide insights into the queue length and help the autoscaler determine the appropriate resource allocation to handle incoming requests efficiently.\"\n",
    "    },\n",
    "    {\n",
    "        \"question\" : \"What is the purpose of creating teams within the Truefoundry platform, and how does it streamline resource management?\",\n",
    "        \"answer\" : \"Creating teams within the Truefoundry platform serves to streamline resource management by simplifying access control and allocation processes. Teams allow users to group individuals with similar responsibilities or access requirements, reducing the need to individually assign permissions for each resource. Additionally, teams facilitate efficient collaboration by providing a structured framework for managing access permissions across multiple resources.\"\n",
    "    },\n",
    "    {\n",
    "        \"question\" : \"How does the Truefoundry platform support role-based access control (RBAC) for managing user permissions?\",\n",
    "        \"answer\" : \"The Truefoundry platform supports role-based access control (RBAC) by assigning specific roles to users based on their responsibilities and access requirements. Each role defines a set of permissions that determine the actions users can perform on resources within the platform. By assigning roles to users, administrators can enforce security policies, restrict unauthorized access, and ensure compliance with data protection regulations.\"\n",
    "    },\n",
    "    {\n",
    "        \"question\" : \"What are the key benefits of using the Truefoundry platform for managing cloud resources?\",\n",
    "        \"answer\" : \"The Truefoundry platform offers several key benefits for managing cloud resources, including centralized resource management, automated provisioning, and enhanced security features. By providing a unified interface to monitor and control cloud resources, Truefoundry simplifies resource allocation, reduces operational overhead, and improves scalability. Additionally, automated provisioning capabilities streamline resource deployment processes, while security features such as RBAC and encryption enhance data protection and compliance.\"\n",
    "    },\n",
    "    {\n",
    "        \"question\" : \"What are the steps involved in creating your account on TrueFoundry?\",\n",
    "        \"answer\" : \"Navigate to the `create your account` page on the TrueFoundry website. Fill out the registration form with your company name, work email, username, and password. Click the `Create Account` button to submit the form.\"\n",
    "    },\n",
    "    {\n",
    "        \"question\" : \"What cloud providers are supported for creating Kubernetes clusters on TrueFoundry, and what are the recommended options for accessing all platform features?\",\n",
    "        \"answer\" : \"TrueFoundry supports AWS EKS, GCP GKE, and Azure AKS for creating Kubernetes clusters. For accessing all platform features, it is recommended to use one of these major cloud providers. Note that kind and minikube, while supported for local clusters, may not support all platform features.\"\n",
    "    },\n",
    "    {\n",
    "        \"question\" : \"What are TrueFoundry jobs, and in what scenarios are they particularly well-suited?\",\n",
    "        \"answer\" : \"TrueFoundry jobs are task-oriented workloads designed to run for a specific duration to complete a task and then terminate, releasing the resources. They are well-suited for scenarios such as model training on large datasets, routine maintenance tasks like data backups and report generation, and large-scale batch inference tasks.\"\n",
    "    },\n",
    "    {\n",
    "        \"question\" : \"What is an MLRepo in Truefoundry, and how does it differ from Git repositories?\",\n",
    "        \"answer\" : \"An MLRepo in Truefoundry serves the purpose of versioning ML models, artifacts, and metadata, similar to how Git repositories version code. However, MLRepos are specifically tailored for ML assets, and access to them can be granted to workspaces, enabling secure and controlled access to ML assets across teams and applications.\"\n",
    "    }\n",
    "]\n",
    "\n",
    "\n",
    "test = [\n",
    "    {\n",
    "        \"question\" : \"How can you view the details of a job run in TrueFoundry?\",\n",
    "        \"answer\" : \"You can view the details of a job run in TrueFoundry by accessing the Job Run section. This section provides information about the status and progress of the job run\"\n",
    "    },\n",
    "    {\n",
    "        \"question\" : \"What are key design principles of truefoundry?\",\n",
    "        \"answer\" : \"The key design principles of TrueFoundry are: Cloud Native: TrueFoundry operates on Kubernetes, allowing it to function on various cloud providers or on-premises environments. ML Inherits the same SRE principles as the rest of the infrastructure: TrueFoundry seamlessly integrates with your existing software stack, providing ML teams with the same SRE (Site Reliability Engineering), security, and cost optimization features. No Vendor Lockin: TrueFoundry is designed to avoid vendor lock-in. It ensures easy migration by providing accessible APIs and exposing all Kubernetes manifests generated, enabling smooth transition if needed.\"\n",
    "    },\n",
    "    {\n",
    "        \"question\" : \"What architecture does TrueFoundry follow, and what benefits does it offer?\",\n",
    "        \"answer\" : \"TrueFoundry follows a split-plane architecture, enabling both on-premises deployment and ensuring that service reliability does not rely solely on TrueFoundry. This architecture enhances reliability and flexibility while allowing for customization based on specific organizational needs.\"\n",
    "    },\n",
    "    {\n",
    "        \"question\" : \"How is the organization of workspaces typically structured within a cluster?\",\n",
    "        \"answer\" : \"Workspaces within a cluster can be organized based on teams, applications, and environments. For example, different teams may manage various applications, each with its own set of environments such as development, staging, and production.\"\n",
    "    },\n",
    "    {\n",
    "        \"question\" : \"How can a user create a workspace in Truefoundry?\",\n",
    "        \"answer\" : \"To create a workspace in Truefoundry, users can navigate to the Workspace tab in the platform and click on the `Create Workspace` button. Once created, users can obtain the Fully Qualified Name (FQN) of the workspace from the FQN button.\"\n",
    "    },\n",
    "    {\n",
    "        \"question\" : \"What is the process for creating an ML Repo in Truefoundry?\",\n",
    "        \"answer\" : \"To create an ML Repo in Truefoundry, users need to have at least one Storage Integration configured. They can then access the list of storage integrations from the dropdown menu and select one to associate with the ML Repo. After selecting a storage integration, users can create an ML Repo from the ML Repo's tab in the platform.\"\n",
    "    },\n",
    "]"
   ]
  },
  {
   "cell_type": "code",
   "execution_count": 11,
   "id": "13d5888a-e7bb-46f1-a2b1-9546512584bd",
   "metadata": {},
   "outputs": [],
   "source": [
    "from dspy import Example\n",
    "\n",
    "trainset = [Example(**data) for data in train]\n",
    "testset = [Example(**data) for data in test]"
   ]
  },
  {
   "cell_type": "code",
   "execution_count": 12,
   "id": "ec761eaf-3bf9-4c01-a891-0ec2c3b5bdea",
   "metadata": {},
   "outputs": [
    {
     "data": {
      "text/plain": [
       "Example({'question': 'What factors influence the dynamic adjustment of the number of replicas in autoscaling, and how is the autoscaling strategy determined based on the Queue Backlog?', 'answer': 'The dynamic adjustment of the number of replicas in autoscaling is influenced by the fluctuation in traffic or resource usage. Specifically, the autoscaling strategy is determined based on the Queue Backlog. When traffic or resource usage varies, the autoscaling strategy evaluates the Queue Backlog to decide the appropriate number of replicas between the defined minimum and maximum replica counts.'}) (input_keys=None)"
      ]
     },
     "execution_count": 12,
     "metadata": {},
     "output_type": "execute_result"
    }
   ],
   "source": [
    "trainset[0]"
   ]
  },
  {
   "cell_type": "code",
   "execution_count": 13,
   "id": "a59d1a75-5269-495c-b94c-cbfa080c5934",
   "metadata": {},
   "outputs": [],
   "source": [
    "# Tell DSPy that the 'question' field is the input. Any other fields are labels and/or metadata.\n",
    "trainset = [x.with_inputs('question') for x in trainset]\n",
    "devset = [x.with_inputs('question') for x in testset]"
   ]
  },
  {
   "cell_type": "code",
   "execution_count": 14,
   "id": "c570b6ef-705c-4e0e-a503-4901aa4838ee",
   "metadata": {},
   "outputs": [
    {
     "data": {
      "text/plain": [
       "Example({'question': 'What factors influence the dynamic adjustment of the number of replicas in autoscaling, and how is the autoscaling strategy determined based on the Queue Backlog?', 'answer': 'The dynamic adjustment of the number of replicas in autoscaling is influenced by the fluctuation in traffic or resource usage. Specifically, the autoscaling strategy is determined based on the Queue Backlog. When traffic or resource usage varies, the autoscaling strategy evaluates the Queue Backlog to decide the appropriate number of replicas between the defined minimum and maximum replica counts.'}) (input_keys={'question'})"
      ]
     },
     "execution_count": 14,
     "metadata": {},
     "output_type": "execute_result"
    }
   ],
   "source": [
    "trainset[0]"
   ]
  },
  {
   "cell_type": "code",
   "execution_count": 15,
   "id": "1bb1fb3d-f66a-405c-b7f9-ded204ca7a32",
   "metadata": {},
   "outputs": [
    {
     "data": {
      "text/plain": [
       "(9, 6)"
      ]
     },
     "execution_count": 15,
     "metadata": {},
     "output_type": "execute_result"
    }
   ],
   "source": [
    "len(trainset), len(testset)"
   ]
  },
  {
   "cell_type": "code",
   "execution_count": 18,
   "id": "4d534674-de33-4c9a-a836-80d6a4ab12af",
   "metadata": {},
   "outputs": [
    {
     "ename": "TypeError",
     "evalue": "cannot pickle '_thread.RLock' object",
     "output_type": "error",
     "traceback": [
      "\u001b[0;31m---------------------------------------------------------------------------\u001b[0m",
      "\u001b[0;31mTypeError\u001b[0m                                 Traceback (most recent call last)",
      "Cell \u001b[0;32mIn[18], line 14\u001b[0m\n\u001b[1;32m     11\u001b[0m optimizer \u001b[38;5;241m=\u001b[39m BootstrapFewShot(metric\u001b[38;5;241m=\u001b[39mvalidate_context_and_answer)\n\u001b[1;32m     13\u001b[0m \u001b[38;5;66;03m# Compile!\u001b[39;00m\n\u001b[0;32m---> 14\u001b[0m compiled_rag \u001b[38;5;241m=\u001b[39m \u001b[43moptimizer\u001b[49m\u001b[38;5;241;43m.\u001b[39;49m\u001b[43mcompile\u001b[49m\u001b[43m(\u001b[49m\u001b[43mRAG\u001b[49m\u001b[43m(\u001b[49m\u001b[43mretriever\u001b[49m\u001b[38;5;241;43m=\u001b[39;49m\u001b[43mretriever\u001b[49m\u001b[43m)\u001b[49m\u001b[43m,\u001b[49m\u001b[43m \u001b[49m\u001b[43mtrainset\u001b[49m\u001b[38;5;241;43m=\u001b[39;49m\u001b[43mtrainset\u001b[49m\u001b[43m)\u001b[49m\n",
      "File \u001b[0;32m~/TrueFoundry/learn-dspy/venv/lib/python3.11/site-packages/dspy/teleprompt/bootstrap.py:50\u001b[0m, in \u001b[0;36mBootstrapFewShot.compile\u001b[0;34m(self, student, teacher, trainset, valset)\u001b[0m\n\u001b[1;32m     47\u001b[0m \u001b[38;5;28mself\u001b[39m\u001b[38;5;241m.\u001b[39mtrainset \u001b[38;5;241m=\u001b[39m trainset\n\u001b[1;32m     48\u001b[0m \u001b[38;5;28mself\u001b[39m\u001b[38;5;241m.\u001b[39mvalset \u001b[38;5;241m=\u001b[39m valset\n\u001b[0;32m---> 50\u001b[0m \u001b[38;5;28;43mself\u001b[39;49m\u001b[38;5;241;43m.\u001b[39;49m\u001b[43m_prepare_student_and_teacher\u001b[49m\u001b[43m(\u001b[49m\u001b[43mstudent\u001b[49m\u001b[43m,\u001b[49m\u001b[43m \u001b[49m\u001b[43mteacher\u001b[49m\u001b[43m)\u001b[49m\n\u001b[1;32m     51\u001b[0m \u001b[38;5;28mself\u001b[39m\u001b[38;5;241m.\u001b[39m_prepare_predictor_mappings()\n\u001b[1;32m     52\u001b[0m \u001b[38;5;28mself\u001b[39m\u001b[38;5;241m.\u001b[39m_bootstrap()\n",
      "File \u001b[0;32m~/TrueFoundry/learn-dspy/venv/lib/python3.11/site-packages/dspy/teleprompt/bootstrap.py:64\u001b[0m, in \u001b[0;36mBootstrapFewShot._prepare_student_and_teacher\u001b[0;34m(self, student, teacher)\u001b[0m\n\u001b[1;32m     63\u001b[0m \u001b[38;5;28;01mdef\u001b[39;00m \u001b[38;5;21m_prepare_student_and_teacher\u001b[39m(\u001b[38;5;28mself\u001b[39m, student, teacher):\n\u001b[0;32m---> 64\u001b[0m     \u001b[38;5;28mself\u001b[39m\u001b[38;5;241m.\u001b[39mstudent \u001b[38;5;241m=\u001b[39m \u001b[43mstudent\u001b[49m\u001b[38;5;241;43m.\u001b[39;49m\u001b[43mreset_copy\u001b[49m\u001b[43m(\u001b[49m\u001b[43m)\u001b[49m\n\u001b[1;32m     65\u001b[0m     \u001b[38;5;28mself\u001b[39m\u001b[38;5;241m.\u001b[39mteacher \u001b[38;5;241m=\u001b[39m teacher\u001b[38;5;241m.\u001b[39mdeepcopy() \u001b[38;5;28;01mif\u001b[39;00m teacher \u001b[38;5;129;01mis\u001b[39;00m \u001b[38;5;129;01mnot\u001b[39;00m \u001b[38;5;28;01mNone\u001b[39;00m \u001b[38;5;28;01melse\u001b[39;00m student\u001b[38;5;241m.\u001b[39mreset_copy()\n\u001b[1;32m     67\u001b[0m     \u001b[38;5;28;01massert\u001b[39;00m \u001b[38;5;28mgetattr\u001b[39m(\u001b[38;5;28mself\u001b[39m\u001b[38;5;241m.\u001b[39mstudent, \u001b[38;5;124m'\u001b[39m\u001b[38;5;124m_compiled\u001b[39m\u001b[38;5;124m'\u001b[39m, \u001b[38;5;28;01mFalse\u001b[39;00m) \u001b[38;5;129;01mis\u001b[39;00m \u001b[38;5;28;01mFalse\u001b[39;00m, \u001b[38;5;124m\"\u001b[39m\u001b[38;5;124mStudent must be uncompiled.\u001b[39m\u001b[38;5;124m\"\u001b[39m\n",
      "File \u001b[0;32m~/TrueFoundry/learn-dspy/venv/lib/python3.11/site-packages/dspy/primitives/module.py:59\u001b[0m, in \u001b[0;36mBaseModule.reset_copy\u001b[0;34m(self)\u001b[0m\n\u001b[1;32m     58\u001b[0m \u001b[38;5;28;01mdef\u001b[39;00m \u001b[38;5;21mreset_copy\u001b[39m(\u001b[38;5;28mself\u001b[39m):\n\u001b[0;32m---> 59\u001b[0m     obj \u001b[38;5;241m=\u001b[39m \u001b[43mcopy\u001b[49m\u001b[38;5;241;43m.\u001b[39;49m\u001b[43mdeepcopy\u001b[49m\u001b[43m(\u001b[49m\u001b[38;5;28;43mself\u001b[39;49m\u001b[43m)\u001b[49m\n\u001b[1;32m     61\u001b[0m     \u001b[38;5;28;01mfor\u001b[39;00m param \u001b[38;5;129;01min\u001b[39;00m obj\u001b[38;5;241m.\u001b[39mparameters():\n\u001b[1;32m     62\u001b[0m         param\u001b[38;5;241m.\u001b[39mreset()\n",
      "File \u001b[0;32m~/miniconda3/lib/python3.11/copy.py:172\u001b[0m, in \u001b[0;36mdeepcopy\u001b[0;34m(x, memo, _nil)\u001b[0m\n\u001b[1;32m    170\u001b[0m                 y \u001b[38;5;241m=\u001b[39m x\n\u001b[1;32m    171\u001b[0m             \u001b[38;5;28;01melse\u001b[39;00m:\n\u001b[0;32m--> 172\u001b[0m                 y \u001b[38;5;241m=\u001b[39m \u001b[43m_reconstruct\u001b[49m\u001b[43m(\u001b[49m\u001b[43mx\u001b[49m\u001b[43m,\u001b[49m\u001b[43m \u001b[49m\u001b[43mmemo\u001b[49m\u001b[43m,\u001b[49m\u001b[43m \u001b[49m\u001b[38;5;241;43m*\u001b[39;49m\u001b[43mrv\u001b[49m\u001b[43m)\u001b[49m\n\u001b[1;32m    174\u001b[0m \u001b[38;5;66;03m# If is its own copy, don't memoize.\u001b[39;00m\n\u001b[1;32m    175\u001b[0m \u001b[38;5;28;01mif\u001b[39;00m y \u001b[38;5;129;01mis\u001b[39;00m \u001b[38;5;129;01mnot\u001b[39;00m x:\n",
      "File \u001b[0;32m~/miniconda3/lib/python3.11/copy.py:271\u001b[0m, in \u001b[0;36m_reconstruct\u001b[0;34m(x, memo, func, args, state, listiter, dictiter, deepcopy)\u001b[0m\n\u001b[1;32m    269\u001b[0m \u001b[38;5;28;01mif\u001b[39;00m state \u001b[38;5;129;01mis\u001b[39;00m \u001b[38;5;129;01mnot\u001b[39;00m \u001b[38;5;28;01mNone\u001b[39;00m:\n\u001b[1;32m    270\u001b[0m     \u001b[38;5;28;01mif\u001b[39;00m deep:\n\u001b[0;32m--> 271\u001b[0m         state \u001b[38;5;241m=\u001b[39m \u001b[43mdeepcopy\u001b[49m\u001b[43m(\u001b[49m\u001b[43mstate\u001b[49m\u001b[43m,\u001b[49m\u001b[43m \u001b[49m\u001b[43mmemo\u001b[49m\u001b[43m)\u001b[49m\n\u001b[1;32m    272\u001b[0m     \u001b[38;5;28;01mif\u001b[39;00m \u001b[38;5;28mhasattr\u001b[39m(y, \u001b[38;5;124m'\u001b[39m\u001b[38;5;124m__setstate__\u001b[39m\u001b[38;5;124m'\u001b[39m):\n\u001b[1;32m    273\u001b[0m         y\u001b[38;5;241m.\u001b[39m__setstate__(state)\n",
      "File \u001b[0;32m~/miniconda3/lib/python3.11/copy.py:146\u001b[0m, in \u001b[0;36mdeepcopy\u001b[0;34m(x, memo, _nil)\u001b[0m\n\u001b[1;32m    144\u001b[0m copier \u001b[38;5;241m=\u001b[39m _deepcopy_dispatch\u001b[38;5;241m.\u001b[39mget(\u001b[38;5;28mcls\u001b[39m)\n\u001b[1;32m    145\u001b[0m \u001b[38;5;28;01mif\u001b[39;00m copier \u001b[38;5;129;01mis\u001b[39;00m \u001b[38;5;129;01mnot\u001b[39;00m \u001b[38;5;28;01mNone\u001b[39;00m:\n\u001b[0;32m--> 146\u001b[0m     y \u001b[38;5;241m=\u001b[39m \u001b[43mcopier\u001b[49m\u001b[43m(\u001b[49m\u001b[43mx\u001b[49m\u001b[43m,\u001b[49m\u001b[43m \u001b[49m\u001b[43mmemo\u001b[49m\u001b[43m)\u001b[49m\n\u001b[1;32m    147\u001b[0m \u001b[38;5;28;01melse\u001b[39;00m:\n\u001b[1;32m    148\u001b[0m     \u001b[38;5;28;01mif\u001b[39;00m \u001b[38;5;28missubclass\u001b[39m(\u001b[38;5;28mcls\u001b[39m, \u001b[38;5;28mtype\u001b[39m):\n",
      "File \u001b[0;32m~/miniconda3/lib/python3.11/copy.py:231\u001b[0m, in \u001b[0;36m_deepcopy_dict\u001b[0;34m(x, memo, deepcopy)\u001b[0m\n\u001b[1;32m    229\u001b[0m memo[\u001b[38;5;28mid\u001b[39m(x)] \u001b[38;5;241m=\u001b[39m y\n\u001b[1;32m    230\u001b[0m \u001b[38;5;28;01mfor\u001b[39;00m key, value \u001b[38;5;129;01min\u001b[39;00m x\u001b[38;5;241m.\u001b[39mitems():\n\u001b[0;32m--> 231\u001b[0m     y[deepcopy(key, memo)] \u001b[38;5;241m=\u001b[39m \u001b[43mdeepcopy\u001b[49m\u001b[43m(\u001b[49m\u001b[43mvalue\u001b[49m\u001b[43m,\u001b[49m\u001b[43m \u001b[49m\u001b[43mmemo\u001b[49m\u001b[43m)\u001b[49m\n\u001b[1;32m    232\u001b[0m \u001b[38;5;28;01mreturn\u001b[39;00m y\n",
      "File \u001b[0;32m~/miniconda3/lib/python3.11/copy.py:172\u001b[0m, in \u001b[0;36mdeepcopy\u001b[0;34m(x, memo, _nil)\u001b[0m\n\u001b[1;32m    170\u001b[0m                 y \u001b[38;5;241m=\u001b[39m x\n\u001b[1;32m    171\u001b[0m             \u001b[38;5;28;01melse\u001b[39;00m:\n\u001b[0;32m--> 172\u001b[0m                 y \u001b[38;5;241m=\u001b[39m \u001b[43m_reconstruct\u001b[49m\u001b[43m(\u001b[49m\u001b[43mx\u001b[49m\u001b[43m,\u001b[49m\u001b[43m \u001b[49m\u001b[43mmemo\u001b[49m\u001b[43m,\u001b[49m\u001b[43m \u001b[49m\u001b[38;5;241;43m*\u001b[39;49m\u001b[43mrv\u001b[49m\u001b[43m)\u001b[49m\n\u001b[1;32m    174\u001b[0m \u001b[38;5;66;03m# If is its own copy, don't memoize.\u001b[39;00m\n\u001b[1;32m    175\u001b[0m \u001b[38;5;28;01mif\u001b[39;00m y \u001b[38;5;129;01mis\u001b[39;00m \u001b[38;5;129;01mnot\u001b[39;00m x:\n",
      "File \u001b[0;32m~/miniconda3/lib/python3.11/copy.py:271\u001b[0m, in \u001b[0;36m_reconstruct\u001b[0;34m(x, memo, func, args, state, listiter, dictiter, deepcopy)\u001b[0m\n\u001b[1;32m    269\u001b[0m \u001b[38;5;28;01mif\u001b[39;00m state \u001b[38;5;129;01mis\u001b[39;00m \u001b[38;5;129;01mnot\u001b[39;00m \u001b[38;5;28;01mNone\u001b[39;00m:\n\u001b[1;32m    270\u001b[0m     \u001b[38;5;28;01mif\u001b[39;00m deep:\n\u001b[0;32m--> 271\u001b[0m         state \u001b[38;5;241m=\u001b[39m \u001b[43mdeepcopy\u001b[49m\u001b[43m(\u001b[49m\u001b[43mstate\u001b[49m\u001b[43m,\u001b[49m\u001b[43m \u001b[49m\u001b[43mmemo\u001b[49m\u001b[43m)\u001b[49m\n\u001b[1;32m    272\u001b[0m     \u001b[38;5;28;01mif\u001b[39;00m \u001b[38;5;28mhasattr\u001b[39m(y, \u001b[38;5;124m'\u001b[39m\u001b[38;5;124m__setstate__\u001b[39m\u001b[38;5;124m'\u001b[39m):\n\u001b[1;32m    273\u001b[0m         y\u001b[38;5;241m.\u001b[39m__setstate__(state)\n",
      "File \u001b[0;32m~/miniconda3/lib/python3.11/copy.py:146\u001b[0m, in \u001b[0;36mdeepcopy\u001b[0;34m(x, memo, _nil)\u001b[0m\n\u001b[1;32m    144\u001b[0m copier \u001b[38;5;241m=\u001b[39m _deepcopy_dispatch\u001b[38;5;241m.\u001b[39mget(\u001b[38;5;28mcls\u001b[39m)\n\u001b[1;32m    145\u001b[0m \u001b[38;5;28;01mif\u001b[39;00m copier \u001b[38;5;129;01mis\u001b[39;00m \u001b[38;5;129;01mnot\u001b[39;00m \u001b[38;5;28;01mNone\u001b[39;00m:\n\u001b[0;32m--> 146\u001b[0m     y \u001b[38;5;241m=\u001b[39m \u001b[43mcopier\u001b[49m\u001b[43m(\u001b[49m\u001b[43mx\u001b[49m\u001b[43m,\u001b[49m\u001b[43m \u001b[49m\u001b[43mmemo\u001b[49m\u001b[43m)\u001b[49m\n\u001b[1;32m    147\u001b[0m \u001b[38;5;28;01melse\u001b[39;00m:\n\u001b[1;32m    148\u001b[0m     \u001b[38;5;28;01mif\u001b[39;00m \u001b[38;5;28missubclass\u001b[39m(\u001b[38;5;28mcls\u001b[39m, \u001b[38;5;28mtype\u001b[39m):\n",
      "File \u001b[0;32m~/miniconda3/lib/python3.11/copy.py:231\u001b[0m, in \u001b[0;36m_deepcopy_dict\u001b[0;34m(x, memo, deepcopy)\u001b[0m\n\u001b[1;32m    229\u001b[0m memo[\u001b[38;5;28mid\u001b[39m(x)] \u001b[38;5;241m=\u001b[39m y\n\u001b[1;32m    230\u001b[0m \u001b[38;5;28;01mfor\u001b[39;00m key, value \u001b[38;5;129;01min\u001b[39;00m x\u001b[38;5;241m.\u001b[39mitems():\n\u001b[0;32m--> 231\u001b[0m     y[deepcopy(key, memo)] \u001b[38;5;241m=\u001b[39m \u001b[43mdeepcopy\u001b[49m\u001b[43m(\u001b[49m\u001b[43mvalue\u001b[49m\u001b[43m,\u001b[49m\u001b[43m \u001b[49m\u001b[43mmemo\u001b[49m\u001b[43m)\u001b[49m\n\u001b[1;32m    232\u001b[0m \u001b[38;5;28;01mreturn\u001b[39;00m y\n",
      "    \u001b[0;31m[... skipping similar frames: _deepcopy_dict at line 231 (6 times), _reconstruct at line 271 (6 times), deepcopy at line 172 (6 times), deepcopy at line 146 (6 times)]\u001b[0m\n",
      "File \u001b[0;32m~/miniconda3/lib/python3.11/copy.py:172\u001b[0m, in \u001b[0;36mdeepcopy\u001b[0;34m(x, memo, _nil)\u001b[0m\n\u001b[1;32m    170\u001b[0m                 y \u001b[38;5;241m=\u001b[39m x\n\u001b[1;32m    171\u001b[0m             \u001b[38;5;28;01melse\u001b[39;00m:\n\u001b[0;32m--> 172\u001b[0m                 y \u001b[38;5;241m=\u001b[39m \u001b[43m_reconstruct\u001b[49m\u001b[43m(\u001b[49m\u001b[43mx\u001b[49m\u001b[43m,\u001b[49m\u001b[43m \u001b[49m\u001b[43mmemo\u001b[49m\u001b[43m,\u001b[49m\u001b[43m \u001b[49m\u001b[38;5;241;43m*\u001b[39;49m\u001b[43mrv\u001b[49m\u001b[43m)\u001b[49m\n\u001b[1;32m    174\u001b[0m \u001b[38;5;66;03m# If is its own copy, don't memoize.\u001b[39;00m\n\u001b[1;32m    175\u001b[0m \u001b[38;5;28;01mif\u001b[39;00m y \u001b[38;5;129;01mis\u001b[39;00m \u001b[38;5;129;01mnot\u001b[39;00m x:\n",
      "File \u001b[0;32m~/miniconda3/lib/python3.11/copy.py:271\u001b[0m, in \u001b[0;36m_reconstruct\u001b[0;34m(x, memo, func, args, state, listiter, dictiter, deepcopy)\u001b[0m\n\u001b[1;32m    269\u001b[0m \u001b[38;5;28;01mif\u001b[39;00m state \u001b[38;5;129;01mis\u001b[39;00m \u001b[38;5;129;01mnot\u001b[39;00m \u001b[38;5;28;01mNone\u001b[39;00m:\n\u001b[1;32m    270\u001b[0m     \u001b[38;5;28;01mif\u001b[39;00m deep:\n\u001b[0;32m--> 271\u001b[0m         state \u001b[38;5;241m=\u001b[39m \u001b[43mdeepcopy\u001b[49m\u001b[43m(\u001b[49m\u001b[43mstate\u001b[49m\u001b[43m,\u001b[49m\u001b[43m \u001b[49m\u001b[43mmemo\u001b[49m\u001b[43m)\u001b[49m\n\u001b[1;32m    272\u001b[0m     \u001b[38;5;28;01mif\u001b[39;00m \u001b[38;5;28mhasattr\u001b[39m(y, \u001b[38;5;124m'\u001b[39m\u001b[38;5;124m__setstate__\u001b[39m\u001b[38;5;124m'\u001b[39m):\n\u001b[1;32m    273\u001b[0m         y\u001b[38;5;241m.\u001b[39m__setstate__(state)\n",
      "File \u001b[0;32m~/miniconda3/lib/python3.11/copy.py:146\u001b[0m, in \u001b[0;36mdeepcopy\u001b[0;34m(x, memo, _nil)\u001b[0m\n\u001b[1;32m    144\u001b[0m copier \u001b[38;5;241m=\u001b[39m _deepcopy_dispatch\u001b[38;5;241m.\u001b[39mget(\u001b[38;5;28mcls\u001b[39m)\n\u001b[1;32m    145\u001b[0m \u001b[38;5;28;01mif\u001b[39;00m copier \u001b[38;5;129;01mis\u001b[39;00m \u001b[38;5;129;01mnot\u001b[39;00m \u001b[38;5;28;01mNone\u001b[39;00m:\n\u001b[0;32m--> 146\u001b[0m     y \u001b[38;5;241m=\u001b[39m \u001b[43mcopier\u001b[49m\u001b[43m(\u001b[49m\u001b[43mx\u001b[49m\u001b[43m,\u001b[49m\u001b[43m \u001b[49m\u001b[43mmemo\u001b[49m\u001b[43m)\u001b[49m\n\u001b[1;32m    147\u001b[0m \u001b[38;5;28;01melse\u001b[39;00m:\n\u001b[1;32m    148\u001b[0m     \u001b[38;5;28;01mif\u001b[39;00m \u001b[38;5;28missubclass\u001b[39m(\u001b[38;5;28mcls\u001b[39m, \u001b[38;5;28mtype\u001b[39m):\n",
      "File \u001b[0;32m~/miniconda3/lib/python3.11/copy.py:231\u001b[0m, in \u001b[0;36m_deepcopy_dict\u001b[0;34m(x, memo, deepcopy)\u001b[0m\n\u001b[1;32m    229\u001b[0m memo[\u001b[38;5;28mid\u001b[39m(x)] \u001b[38;5;241m=\u001b[39m y\n\u001b[1;32m    230\u001b[0m \u001b[38;5;28;01mfor\u001b[39;00m key, value \u001b[38;5;129;01min\u001b[39;00m x\u001b[38;5;241m.\u001b[39mitems():\n\u001b[0;32m--> 231\u001b[0m     y[deepcopy(key, memo)] \u001b[38;5;241m=\u001b[39m \u001b[43mdeepcopy\u001b[49m\u001b[43m(\u001b[49m\u001b[43mvalue\u001b[49m\u001b[43m,\u001b[49m\u001b[43m \u001b[49m\u001b[43mmemo\u001b[49m\u001b[43m)\u001b[49m\n\u001b[1;32m    232\u001b[0m \u001b[38;5;28;01mreturn\u001b[39;00m y\n",
      "File \u001b[0;32m~/miniconda3/lib/python3.11/copy.py:161\u001b[0m, in \u001b[0;36mdeepcopy\u001b[0;34m(x, memo, _nil)\u001b[0m\n\u001b[1;32m    159\u001b[0m reductor \u001b[38;5;241m=\u001b[39m \u001b[38;5;28mgetattr\u001b[39m(x, \u001b[38;5;124m\"\u001b[39m\u001b[38;5;124m__reduce_ex__\u001b[39m\u001b[38;5;124m\"\u001b[39m, \u001b[38;5;28;01mNone\u001b[39;00m)\n\u001b[1;32m    160\u001b[0m \u001b[38;5;28;01mif\u001b[39;00m reductor \u001b[38;5;129;01mis\u001b[39;00m \u001b[38;5;129;01mnot\u001b[39;00m \u001b[38;5;28;01mNone\u001b[39;00m:\n\u001b[0;32m--> 161\u001b[0m     rv \u001b[38;5;241m=\u001b[39m reductor(\u001b[38;5;241m4\u001b[39m)\n\u001b[1;32m    162\u001b[0m \u001b[38;5;28;01melse\u001b[39;00m:\n\u001b[1;32m    163\u001b[0m     reductor \u001b[38;5;241m=\u001b[39m \u001b[38;5;28mgetattr\u001b[39m(x, \u001b[38;5;124m\"\u001b[39m\u001b[38;5;124m__reduce__\u001b[39m\u001b[38;5;124m\"\u001b[39m, \u001b[38;5;28;01mNone\u001b[39;00m)\n",
      "\u001b[0;31mTypeError\u001b[0m: cannot pickle '_thread.RLock' object"
     ]
    }
   ],
   "source": [
    "from dspy.teleprompt import BootstrapFewShot\n",
    "\n",
    "# Validation logic: check that the predicted answer is correct.\n",
    "# Also check that the retrieved context does actually contain that answer.\n",
    "def validate_context_and_answer(example, pred, trace=None):\n",
    "    answer_EM = dspy.evaluate.answer_exact_match(example, pred)\n",
    "    answer_PM = dspy.evaluate.answer_passage_match(example, pred)\n",
    "    return answer_EM and answer_PM\n",
    "\n",
    "# Set up a basic optimizer, which will compile our RAG program.\n",
    "optimizer = BootstrapFewShot(metric=validate_context_and_answer)\n",
    "\n",
    "# Compile!\n",
    "compiled_rag = optimizer.compile(RAG(retriever=retriever), trainset=trainset)"
   ]
  }
 ],
 "metadata": {
  "kernelspec": {
   "display_name": "Python 3 (ipykernel)",
   "language": "python",
   "name": "python3"
  },
  "language_info": {
   "codemirror_mode": {
    "name": "ipython",
    "version": 3
   },
   "file_extension": ".py",
   "mimetype": "text/x-python",
   "name": "python",
   "nbconvert_exporter": "python",
   "pygments_lexer": "ipython3",
   "version": "3.11.5"
  }
 },
 "nbformat": 4,
 "nbformat_minor": 5
}
