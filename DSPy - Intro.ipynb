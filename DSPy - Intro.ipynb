{
 "cells": [
  {
   "cell_type": "markdown",
   "id": "2c03f790-bc38-4833-83c1-bce6b7d082f6",
   "metadata": {},
   "source": [
    "# DSPy"
   ]
  },
  {
   "cell_type": "markdown",
   "id": "a68a0adf-97d1-4e46-94e8-32a616a58bfa",
   "metadata": {},
   "source": [
    "## What?\n",
    "Framework to algorithmically optimizing LM prompts and weights."
   ]
  },
  {
   "cell_type": "markdown",
   "id": "bfb298f5-6290-49a1-a1ef-0e339f60d697",
   "metadata": {},
   "source": [
    "## Why?\n",
    "Using LMs to build a complex system we generally have to: \n",
    "- Break the problem down into steps\n",
    "- Prompt your LM well until each step works well in isolation\n",
    "- Tweak the steps to work well together\n",
    "- Generate synthetic examples to tune each step\n",
    "- Use these examples to finetune smaller LMs to cut costs.\n",
    "\n",
    "Currently, this is hard and messy: every time you change your pipeline, your LM, or your data, all prompts (or finetuning steps) may need to change."
   ]
  },
  {
   "cell_type": "markdown",
   "id": "ea4b790f-3593-4856-8511-f3f708b75db5",
   "metadata": {},
   "source": [
    "## How?\n",
    "DSPy breaks this process into following three abstractions:\n",
    "- **Signatures:** Abstract the input and output behaviour\n",
    "- **Modules:** Defines the flow of your program and sets up a pipeline. E.g of modules: `Predict`, `ChainOfThought`, `ProgramOfThought`, `MultiChainComparison` and `React`.\n",
    "- **Optimizers:** Also known as `Teleprompters`, it takes the program, a training set and an evaluation metric and returns a new optimized program for the required use-case. Used to train smaller LMs (student) using larger LMs (teacher).\n",
    "\n",
    "> Training Set can be small or have incomplete examples or without labels unless needed to be used in metric.\n",
    "Metric can be `Exact Match (EM)` or `F1` or any custom defined metric"
   ]
  },
  {
   "cell_type": "markdown",
   "id": "87cd9813-2afd-4189-82ac-c8f8eb664737",
   "metadata": {},
   "source": [
    "## DSPy Architecture"
   ]
  },
  {
   "cell_type": "markdown",
   "id": "8f45a43d-37a6-4e87-8916-00407f6e5099",
   "metadata": {},
   "source": [
    "![dspy_arch](./assets/dspy_arch.png)"
   ]
  },
  {
   "cell_type": "markdown",
   "id": "efb6a062-aa54-4ecf-bdb5-9cfcfb49adf2",
   "metadata": {},
   "source": [
    "### Signature:\n",
    "Use signature to tell, `what to do`, instead of `how to do`. Need not write huge prompts.\n",
    "DSPy supports inline short strings as signatures, can always write custom classes for the same.\n",
    "\n",
    "Some signatures available in DSPy:\n",
    "\n",
    "| Task                        | Signature                      |\n",
    "|-----------------------------|--------------------------------|\n",
    "| Question-Answering         | \"question -> answer\"           |\n",
    "| Summarization               | \"document -> summary\"          |\n",
    "| Sentiment classification    | \"sentence -> sentiment\"        |\n",
    "| RAG                         | \"context, question -> answer\"  |\n",
    "| MCQs with Reasoning        | \"question, choices -> reasoning, selection\" |\n"
   ]
  },
  {
   "cell_type": "markdown",
   "id": "9f1cbedc-74ac-414f-b012-1c05832c9bdd",
   "metadata": {},
   "source": [
    "### Module:\n",
    "Takes the signature and converts it into a sophisticated prompt, based on a given technique and LLM used. Can be thought of as a model layer defined in Pytorch that learns from data (input/output)."
   ]
  },
  {
   "cell_type": "markdown",
   "id": "8ac58f58-0541-4329-9c03-88f31477b927",
   "metadata": {},
   "source": [
    "### Optimizer:\n",
    "DSPy optimizer can optimize 3 things\n",
    "- LM weights\n",
    "- Instructions (Prompt/Signature)\n",
    "- Demonstrations of Input-Ouput Behaviour\n",
    "\n",
    "Current available optimizers: [https://dspy-docs.vercel.app/docs/building-blocks/optimizers#what-dspy-optimizers-are-currently-available](https://dspy-docs.vercel.app/docs/building-blocks/optimizers#what-dspy-optimizers-are-currently-available)"
   ]
  },
  {
   "cell_type": "markdown",
   "id": "4e2fe867-8f1f-4b24-a509-f13bd84d1b4a",
   "metadata": {},
   "source": [
    "#### Which optimizer should I use?\n",
    "As a rule of thumb, if you don't know where to start, use `BootstrapFewShotWithRandomSearch`.\n",
    "\n",
    "Here's the general guidance on getting started:\n",
    "- If you have `very little data`, e.g. 10 examples of your task, use `BootstrapFewShot`.\n",
    "- If you have `slightly more data`, e.g. 50 examples of your task, use `BootstrapFewShotWithRandomSearch`.\n",
    "- If you have `more data than that`, e.g. 300 examples or more, use `MIPRO`.\n",
    "- If you have been able to use one of these with a `large LM` (e.g., 7B parameters or above) and need a very efficient program, `compile` that down to a `small LM` with `BootstrapFinetune`."
   ]
  },
  {
   "cell_type": "markdown",
   "id": "732c9b43-422e-4822-a342-d08fe125088c",
   "metadata": {},
   "source": [
    "## General Workflow\n",
    "Whatever the task, the general workflow is:\n",
    "\n",
    "- Collect a little bit of data.\n",
    "- Define examples of the inputs and outputs of your program (e.g., questions and their answers). This could just be a handful of quick examples you wrote down. If large datasets exist, the more the merrier!\n",
    "- Define the modules (i.e., sub-tasks) of your program and the way they should interact together to solve your task.\n",
    "- Define some validation logic. What makes for a good run of your program? Maybe the answers need to have a certain length or stick to a particular format? Specify the logic that checks that.\n",
    "- Compile! Ask DSPy to compile your program using your data. The compiler will use your data and validation logic to optimize your program (e.g., prompts and modules) so it's efficient and effective!Iterate.\n",
    "- Repeat the process by improving your data, program, validation, or by using more advanced features of the DSPy compiler."
   ]
  },
  {
   "cell_type": "markdown",
   "id": "ae50aec8-78fe-4f21-8483-9b9abb9e2361",
   "metadata": {},
   "source": [
    "## Demo - RAG (Unoptimized)"
   ]
  },
  {
   "cell_type": "markdown",
   "id": "53d845e2-deda-40cb-a65e-47ed9f4027b0",
   "metadata": {},
   "source": [
    "We shall try RAG on truefoundry docs that are ingested in local docker based Qdrant deployment "
   ]
  },
  {
   "cell_type": "code",
   "execution_count": 1,
   "id": "78b000fb-08dc-419c-963a-b8f13730efec",
   "metadata": {},
   "outputs": [],
   "source": [
    "# First need the embedding\n",
    "from embeddings.mixedbread import MixBreadEmbeddings\n",
    "embedding_model = MixBreadEmbeddings(\n",
    "    model_name=\"mixedbread-ai/mxbai-embed-large-v1\"\n",
    ")"
   ]
  },
  {
   "cell_type": "code",
   "execution_count": 2,
   "id": "aad07409-8d31-4657-9744-d2e4735947e1",
   "metadata": {},
   "outputs": [],
   "source": [
    "# Set up Retriever\n",
    "from vectordb.qdrant import CustomQdrantRetriever, QdrantClient\n",
    "\n",
    "qdrant_client = QdrantClient(url=\"http://localhost:6333\")\n",
    "retriever = CustomQdrantRetriever(\n",
    "    qdrant_collection_name=\"creditcard\", \n",
    "    qdrant_client=qdrant_client, \n",
    "    embedding_model=embedding_model,\n",
    "    k=5,\n",
    ")\n"
   ]
  },
  {
   "cell_type": "code",
   "execution_count": 3,
   "id": "9153bd82-7329-469f-b18d-199a2162a8b7",
   "metadata": {},
   "outputs": [
    {
     "data": {
      "application/vnd.jupyter.widget-view+json": {
       "model_id": "256e634504aa4b95988c210aa2fb2a2b",
       "version_major": 2,
       "version_minor": 0
      },
      "text/plain": [
       "  0%|          | 0/1 [00:00<?, ?it/s]"
      ]
     },
     "metadata": {},
     "output_type": "display_data"
    },
    {
     "data": {
      "text/plain": [
       "[{'long_text': '# [Regalia gold credit card](https://www.hdfcbank.com/personal/pay/cards/credit-cards/regalia-gold-credit-card)\\n## Features\\n#### Contactless Payment\\nContactless Payment\\nThe HDFC Bank Regalia Gold Credit Card is enabled for contactless payments, facilitating fast, convenient and secure payments at retail outlets.\\n\\\\*To see if your Card is contactless, look for the contactless network symbol on your Card.\\n(Please note that in India, payment through contactless mode is allowed for a maximum of ₹5000 in a single transaction without being asked to input your [Credit Card PIN](/personal/pay/cards/credit-cards/forgot-card-pin \"/personal/pay/cards/credit-cards/forgot-card-pin\"). However, if the amount is higher than or equal to ₹5000, the Cardholder has to enter the Credit Card PIN for security reasons.)'},\n",
       " {'long_text': '# [Infinia credit card](https://www.hdfcbank.com/personal/pay/cards/credit-cards/infinia-credit-card)\\n## Features\\n#### Insurance/Comprehensive protection & Nominee details for Insurance\\nInsurance/Comprehensive protection & Nominee details for Insurance\\n* Accidental Air Death cover worth Rs. 3 Crore\\n* Emergency overseas hospitalization up to Rs. 50 lakhs in case of emergency\\n* Credit Shield Cover for upto 9 lakhs\\n[Click Here](https://leads.hdfcbank.com/applications/webforms/apply/HDFC_NomineeDetails/Nominee.aspx \"https://leads.hdfcbank.com/applications/webforms/apply/HDFC_NomineeDetails/Nominee.aspx\")\\xa0to update your nominee details.\\n[Click Here](/Personal/Pay/Cards/Credit Card/Credit Card Landing Page/Credit Cards/Super Premium/Infinia/Covers_Infinia.pdf \"/Personal/Pay/Cards/Credit Card/Credit Card Landing Page/Credit Cards/Super Premium/Infinia/Covers_Infinia.pdf\")\\xa0for details.'}]"
      ]
     },
     "execution_count": 3,
     "metadata": {},
     "output_type": "execute_result"
    }
   ],
   "source": [
    "# also have other keys like metadata & score\n",
    "retriever(\"What is creditcard\", k=2)"
   ]
  },
  {
   "cell_type": "code",
   "execution_count": 4,
   "id": "8487132f-a8de-40de-99ba-f9d267b490a5",
   "metadata": {},
   "outputs": [],
   "source": [
    "# Set up LLM\n",
    "from dspy import OllamaLocal\n",
    "\n",
    "llm = OllamaLocal(\n",
    "    model=\"llama3:8b\", \n",
    "    model_type=\"text\", \n",
    "    max_tokens=1024, \n",
    "    top_p=1, \n",
    "    top_k=20, \n",
    "    temperature=0.1,\n",
    "    base_url=\"http://localhost:11434\", \n",
    "    frequency_penalty=0.9,\n",
    "    presence_penalty=2\n",
    ")"
   ]
  },
  {
   "cell_type": "code",
   "execution_count": 5,
   "id": "58b81693-a7b9-4af1-8cee-dd1564c66240",
   "metadata": {},
   "outputs": [],
   "source": [
    "# Configure the settings\n",
    "import dspy\n",
    "dspy.configure(lm=llm, rm=retriever)"
   ]
  },
  {
   "cell_type": "code",
   "execution_count": 6,
   "id": "32872036-8818-4f38-95af-20331821f0b6",
   "metadata": {},
   "outputs": [],
   "source": [
    "# Generate Signature for Input\n",
    "class GenerateAnswer(dspy.Signature):\n",
    "    \"\"\"Answer the question in detail using the context.\"\"\"\n",
    "\n",
    "    context = dspy.InputField(desc=\"Contains relevant facts to answer the question\")\n",
    "    question = dspy.InputField()\n",
    "    answer = dspy.OutputField(desc=\"Detailed answer with respect to given question and context\")"
   ]
  },
  {
   "cell_type": "code",
   "execution_count": 7,
   "id": "ce9d0fb9-7f9f-47d1-8485-4d25f7cd7318",
   "metadata": {},
   "outputs": [],
   "source": [
    "class RAG(dspy.Module):\n",
    "\n",
    "    def __init__(self, k: int = 5):\n",
    "        super().__init__()\n",
    "        \n",
    "        self.k = k\n",
    "        self.retriever = dspy.Retrieve(k=self.k)\n",
    "        self.generate_answer = dspy.ChainOfThought(signature=GenerateAnswer)\n",
    "\n",
    "    def forward(self, question, k=None):\n",
    "        passages = self.retriever(question, k).passages\n",
    "        # print(\"Passages: \", passages)\n",
    "        prediction = self.generate_answer(context=passages, question=question)\n",
    "        return dspy.Prediction(context=passages, answer=prediction.answer)"
   ]
  },
  {
   "cell_type": "code",
   "execution_count": 8,
   "id": "87fcff52-9136-4f37-ae9a-dda0634ba1c9",
   "metadata": {},
   "outputs": [
    {
     "data": {
      "application/vnd.jupyter.widget-view+json": {
       "model_id": "3c20be3594fc49efbbfa8407745e0ef5",
       "version_major": 2,
       "version_minor": 0
      },
      "text/plain": [
       "  0%|          | 0/1 [00:00<?, ?it/s]"
      ]
     },
     "metadata": {},
     "output_type": "display_data"
    },
    {
     "name": "stdout",
     "output_type": "stream",
     "text": [
      "ANSWER: There are several types of credit cards offered by banks like HDFC Bank, each catering to different segments of customers with unique features and benefits.\n",
      "\n",
      "Here's a breakdown:\n",
      "\n",
      "* Infinia Credit Card (HDFC Bank): A premium card offering reward points redemption and cashback offers.\n",
      "* Regalia Gold Credit Card (HDFC Bank): A high-end card providing smart EMI options for converting big spends into easy installments.\n",
      "* Diners Club Black: A travel-focused credit card with revolving credit at a nominal interest rate, exclusive airport lounge access, and other benefits.\n",
      "\n",
      "The HDFC Bank UPI RuPay Credit Card is specifically designed to provide:\n",
      "\n",
      "1. Cashpoints:\n",
      "\t* 3% cashback on groceries, supermarkets & dining\n",
      "\t* 2% on utility spends (Maximum of ₹500 in a calendar month)\n",
      "\t* 1% on other transactions (excluding Rent, Wallet loads, EMI, Fuel, Insurance Payments & Government categories) (Maximum of ₹500 in a calendar month)\n",
      "\n",
      "These cards cater to different customer segments:\n",
      "\n",
      "* Infinia: For those seeking premium rewards and cashback offers\n",
      "* Regalia Gold: For individuals who want smart EMI options for big spends\n",
      "* Diners Club Black: For frequent travelers looking for travel-related benefits\n",
      "\n",
      "The HDFC Bank UPI RuPay Credit Card is designed with the following features in mind:\n",
      "\n",
      "1. Cashpoints on various transaction categories, including groceries and utilities.\n",
      "2. Integration with Unified Payments Interface (UPI) to facilitate seamless transactions.\n",
      "\n",
      "These credit cards offer a range of rewards, cashback offers, smart EMI options, travel benefits, or other perks tailored to specific customer needs.\n",
      "====================================\n",
      "\n",
      "\n",
      "Context: ('# [Freedom card new](https://www.hdfcbank.com/personal/pay/cards/credit-cards/freedom-card-new)\\n## Features\\n#### Additional Features\\nAdditional Features\\n**Zero lost Card liability :** In the unfortunate event of losing your HDFC Bank Freedom Credit Card, report it immediately to our 24-hour call centre. On reporting the loss immediately, you have zero liability on any fraudulent transactions made on your Credit Card.\\n**Interest Free Credit Period :** Avail up to 50 days of interest free period on your HDFC Bank Freedom Credit Card from the date of purchase (subject to the submission of the charge by the Merchant).\\n**Revolving Credit :** Enjoy Revolving Credit on your HDFC Bank Freedom [Credit Card](https://www.hdfcbank.com/personal/pay/cards/credit-cards \"https://www.hdfcbank.com/personal/pay/cards/credit-cards\") at nominal interest rate. Please refer to the Fees and Charges section for more details.\\n**Exclusive Dining Privileges :**\\u200b\\u200b\\u200b\\u200b\\u200b\\u200b\\u200bEnjoy amazing dining benefits with Good Food Trail program.',)\n",
      "\n",
      "\n",
      "====================================\n",
      "Context: ('# [Diners club black](https://www.hdfcbank.com/personal/pay/cards/credit-cards/diners-club-black)\\n## Features\\n#### Key Features\\nInternational Golf Courses (handicap certificate mandatory), [click here](/Personal/Pay/Cards/Credit Card/Credit Card Landing Page/Credit Cards/Super Premium/Diners Privilege/International Golf.pdf \"/Personal/Pay/Cards/Credit Card/Credit Card Landing Page/Credit Cards/Super Premium/Diners Privilege/International Golf.pdf\")\\n[Click here](/Personal/Pay/Cards/Credit Card/Credit Card Landing Page/Credit Cards/Super Premium/Diners Privilege/HDFC_Diners_Website_T_C_v2.pdf \"/Personal/Pay/Cards/Credit Card/Credit Card Landing Page/Credit Cards/Super Premium/Diners Privilege/HDFC_Diners_Website_T_C_v2.pdf\") for detailed T&C and FAQ on the golf program',)\n",
      "\n",
      "\n",
      "====================================\n",
      "Context: ('# [Infinia credit card](https://www.hdfcbank.com/personal/pay/cards/credit-cards/infinia-credit-card)\\n## Features\\n#### Concierge\\nConcierge\\nGlobal Personal Concierge – 24 X 7\\nCustomize your travel, entertainment, and business experiences with our Global Concierge Assistance\\n**Here are some of the services provided by our concierge.**\\n* Golf Booking\\n* Itinerary planning and reservation assistance\\n* Private dining assistance\\n* International gift delivery\\n* Event planning and referrals\\n* Airport VIP service (meet-and-greet) and much more.\\n* Toll Free No.: 1800 118 887 Landline No.: 022 42320226\\nEmail ID: Infinia.support@smartbuyoffers.co\\u200b\\u200b\\u200b\\u200b\\u200b\\n[Click here](https://www.hdfcbank.com/content/api/contentstream-id/723fb80a-2dde-42a3-9793-7ae1be57c87f/3a9d119b-53ba-4768-bb88-57c3630cbed0? \"https://www.hdfcbank.com/content/api/contentstream-id/723fb80a-2dde-42a3-9793-7ae1be57c87f/3a9d119b-53ba-4768-bb88-57c3630cbed0?\") for Concierge T&C\\nHDFC Bank Customer Service\\n**Customer care numbers:**\\nToll Free: 1800 266 3310\\nLandline: 022-6171 7606 (For customers travelling overseas)\\nE-mail: infinia.services@hdfcbank.com',)\n",
      "\n",
      "\n",
      "====================================\n",
      "Context: ('# [Marriott bonvoy credit card](https://www.hdfcbank.com/personal/pay/cards/credit-cards/marriott-bonvoy-credit-card)\\n## Features\\n#### Features\\n\\\\*[Click here](/Personal/Pay/Cards/Credit Card/Credit Card Landing Page/Credit Cards/Co-Brand/Marriott Co-Brand Credit card/Card-Benefit-Terms-Conditions-clean-HDFC-Bank-response.pdf \"/Personal/Pay/Cards/Credit Card/Credit Card Landing Page/Credit Cards/Co-Brand/Marriott Co-Brand Credit card/Card-Benefit-Terms-Conditions-clean-HDFC-Bank-response.pdf\") to view detailed Terms and Conditions\\n\\\\*\\\\*[Click here](/Personal/Pay/Cards/Credit Card/Credit Card Landing Page/Credit Cards/Co-Brand/Marriott Co-Brand Credit card/Golf-TC-Marriott.pdf \"/Personal/Pay/Cards/Credit Card/Credit Card Landing Page/Credit Cards/Co-Brand/Marriott Co-Brand Credit card/Golf-TC-Marriott.pdf\") to view detailed Terms and Conditions on Golf Lounge access',)\n",
      "\n",
      "\n",
      "====================================\n",
      "Context: ('# [Regalia gold credit card](https://www.hdfcbank.com/personal/pay/cards/credit-cards/regalia-gold-credit-card)\\n## Features\\n#### Additional Features\\nAdditional Features\\n* Zero Lost card liability : In the unfortunate event of losing your HDFC Bank Regalia Gold Credit Card, on reporting it immediately to our 24-hour call centre, you have zero liability on any fraudulent transactions made on your [Credit Card](/personal/pay/cards/credit-cards \"/personal/pay/cards/credit-cards\").\\n* Foreign Currency Markup : 2% on all your foreign currency spends.\\n* Revolving Credit : Enjoy Revolving Credit on your HDFC Bank Regalia Gold Credit Card at nominal interest rate. Refer to the Fees and Charges section to know more. [Click here](/personal/pay/cards/credit-cards/regalia-gold-credit-card/fees-and-charges \"/personal/pay/cards/credit-cards/regalia-gold-credit-card/fees-and-charges\").',)\n",
      "\n",
      "\n",
      "====================================\n",
      "Context: ('# [Regalia gold credit card](https://www.hdfcbank.com/personal/pay/cards/credit-cards/regalia-gold-credit-card)\\n## Features\\n#### Reward Point/CashBack Redemption & Validity\\n\\u200b\\u200b\\u200b\\u200b\\u200b\\u200b\\u200bPlease\\xa0[Click Here](/Personal/Pay/Cards/Credit Card/Credit Card Landing Page/Credit Cards/Super Premium/Regalia Gold Credit Card/Rewards-redemption-through-Smartbuy.pdf \"/Personal/Pay/Cards/Credit Card/Credit Card Landing Page/Credit Cards/Super Premium/Regalia Gold Credit Card/Rewards-redemption-through-Smartbuy.pdf\")\\xa0to\\xa0view reward points redemption process.\\nPlease [Click Here](/Personal/Pay/Cards/Credit Card/Credit Card Landing Page/Credit Cards/Super Premium/Regalia Gold Credit Card/Webpage-content-T-and-Cs.pdf \"/Personal/Pay/Cards/Credit Card/Credit Card Landing Page/Credit Cards/Super Premium/Regalia Gold Credit Card/Webpage-content-T-and-Cs.pdf\")\\xa0to view reward points TnC.',)\n",
      "\n",
      "\n",
      "====================================\n",
      "Context: ('# [Infinia credit card](https://www.hdfcbank.com/personal/pay/cards/credit-cards/infinia-credit-card)\\n## Features\\n#### Reward Point/CashBack Redemption & Validity\\n\\\\*Please\\xa0[click here](/Personal/Pay/Cards/Credit Card/Credit Card Landing Page/Credit Cards/Super Premium/Infinia/RP-Program-TnC.pdf \"/Personal/Pay/Cards/Credit Card/Credit Card Landing Page/Credit Cards/Super Premium/Infinia/RP-Program-TnC.pdf\")\\xa0to know more\\n[FAQs](/personal/need-help/faqs#/infinia \"FAQs\")\\n# [Infinia credit card](https://www.hdfcbank.com/personal/pay/cards/credit-cards/infinia-credit-card)\\n## Eligibility\\nMembership for the **HDFC Bank Infinia Credit Card** is By Invite Only',)\n",
      "\n",
      "\n",
      "====================================\n",
      "Context: ('# [Regalia gold credit card](https://www.hdfcbank.com/personal/pay/cards/credit-cards/regalia-gold-credit-card)\\n## Features\\n#### Smart EMI\\nSmart EMI\\nHDFC Bank\\xa0Regalia Gold Credit Card comes with an option to\\xa0convert your big spends into EMI after purchase. To know more [click here](/personal/borrow/loan-against-assets/smartemi \"/personal/borrow/loan-against-assets/smartemi\")',)\n",
      "\n",
      "\n",
      "====================================\n",
      "Context: ('# [Diners club black](https://www.hdfcbank.com/personal/pay/cards/credit-cards/diners-club-black)\\n## Features\\n#### Additional Features\\n* **Revolving Credit:** Available at a nominal interest rate on your HDFC Bank Diners Club Black Credit Card. Please refer to Fees and Charges section to know more [click here](/personal/pay/cards/credit-cards/diners-club-black/fees-and-charges \"/personal/pay/cards/credit-cards/diners-club-black/fees-and-charges\").',)\n",
      "\n",
      "\n",
      "====================================\n",
      "Context: ('# [Hdfc bank upi rupay credit card](https://www.hdfcbank.com/personal/pay/cards/credit-cards/hdfc-bank-upi-rupay-credit-card)\\n## Features\\n#### Key Features:\\nKey Features:\\n* 3% Cashpoints on Groceries, SuperMarket & Dining spends &\\xa0PayZapp transactions. (Maximum of 500 Points can be earned in a calendar month)\\n* 2% Cashpoints on Utility spends (Maximum of 500 Points can be earned in a calendar month)\\n* 1% Cashpoints on other spends (Excluding Rent, Wallet loads, EMI, Fuel, Insurance Payments & Government categories) (Maximum of 500 Points can be earned in a calendar month)\\n**Note:** The above benefits are applicable for both UPI as well as regular credit card spends.\\nFor detailed Terms & conditions\\xa0[Click here](/Personal/Pay/Cards/Credit Card/Credit Card Landing Page/Credit Cards/HDFC Bank UPI RuPay Credit Card/Terms-and-Conditions-HDFC-Bank-UPI-RuPay-Credit-Card-03042023.pdf \"/Personal/Pay/Cards/Credit Card/Credit Card Landing Page/Credit Cards/HDFC Bank UPI RuPay Credit Card/Terms-and-Conditions-HDFC-Bank-UPI-RuPay-Credit-Card-03042023.pdf\")',)\n",
      "\n",
      "\n",
      "====================================\n"
     ]
    }
   ],
   "source": [
    "# Ask any question you like to this simple RAG program.\n",
    "my_question = \"Explain different types of credit cards?\"\n",
    "uncompiled_rag = RAG(k=10)\n",
    "# Get the prediction. This contains `pred.context` and `pred.answer`.\n",
    "prediction = uncompiled_rag(my_question)\n",
    "\n",
    "print(f\"ANSWER: {prediction.answer}\")\n",
    "print(\"====================================\\n\\n\")\n",
    "\n",
    "for context in zip(prediction.context):\n",
    "    print(f\"Context: {context}\")\n",
    "    print(\"\\n\\n====================================\")\n"
   ]
  },
  {
   "cell_type": "code",
   "execution_count": 9,
   "id": "4fc56a58-ac40-4eee-a316-9f9b54b72619",
   "metadata": {},
   "outputs": [
    {
     "name": "stdout",
     "output_type": "stream",
     "text": [
      "\n",
      "\n",
      "\n",
      "\n",
      "Answer the question in detail using the context.\n",
      "\n",
      "---\n",
      "\n",
      "Follow the following format.\n",
      "\n",
      "Context: Contains relevant facts to answer the question\n",
      "\n",
      "Question: ${question}\n",
      "\n",
      "Reasoning: Let's think step by step in order to ${produce the answer}. We ...\n",
      "\n",
      "Answer: Detailed answer with respect to given question and context\n",
      "\n",
      "---\n",
      "\n",
      "Context:\n",
      "[1] «# [Freedom card new](https://www.hdfcbank.com/personal/pay/cards/credit-cards/freedom-card-new)\n",
      "## Features\n",
      "#### Additional Features\n",
      "Additional Features\n",
      "**Zero lost Card liability :** In the unfortunate event of losing your HDFC Bank Freedom Credit Card, report it immediately to our 24-hour call centre. On reporting the loss immediately, you have zero liability on any fraudulent transactions made on your Credit Card.\n",
      "**Interest Free Credit Period :** Avail up to 50 days of interest free period on your HDFC Bank Freedom Credit Card from the date of purchase (subject to the submission of the charge by the Merchant).\n",
      "**Revolving Credit :** Enjoy Revolving Credit on your HDFC Bank Freedom [Credit Card](https://www.hdfcbank.com/personal/pay/cards/credit-cards \"https://www.hdfcbank.com/personal/pay/cards/credit-cards\") at nominal interest rate. Please refer to the Fees and Charges section for more details.\n",
      "**Exclusive Dining Privileges :**​​​​​​​Enjoy amazing dining benefits with Good Food Trail program.»\n",
      "[2] «# [Diners club black](https://www.hdfcbank.com/personal/pay/cards/credit-cards/diners-club-black)\n",
      "## Features\n",
      "#### Key Features\n",
      "International Golf Courses (handicap certificate mandatory), [click here](/Personal/Pay/Cards/Credit Card/Credit Card Landing Page/Credit Cards/Super Premium/Diners Privilege/International Golf.pdf \"/Personal/Pay/Cards/Credit Card/Credit Card Landing Page/Credit Cards/Super Premium/Diners Privilege/International Golf.pdf\")\n",
      "[Click here](/Personal/Pay/Cards/Credit Card/Credit Card Landing Page/Credit Cards/Super Premium/Diners Privilege/HDFC_Diners_Website_T_C_v2.pdf \"/Personal/Pay/Cards/Credit Card/Credit Card Landing Page/Credit Cards/Super Premium/Diners Privilege/HDFC_Diners_Website_T_C_v2.pdf\") for detailed T&C and FAQ on the golf program»\n",
      "[3] «# [Infinia credit card](https://www.hdfcbank.com/personal/pay/cards/credit-cards/infinia-credit-card)\n",
      "## Features\n",
      "#### Concierge\n",
      "Concierge\n",
      "Global Personal Concierge – 24 X 7\n",
      "Customize your travel, entertainment, and business experiences with our Global Concierge Assistance\n",
      "**Here are some of the services provided by our concierge.**\n",
      "* Golf Booking\n",
      "* Itinerary planning and reservation assistance\n",
      "* Private dining assistance\n",
      "* International gift delivery\n",
      "* Event planning and referrals\n",
      "* Airport VIP service (meet-and-greet) and much more.\n",
      "* Toll Free No.: 1800 118 887 Landline No.: 022 42320226\n",
      "Email ID: Infinia.support@smartbuyoffers.co​​​​​\n",
      "[Click here](https://www.hdfcbank.com/content/api/contentstream-id/723fb80a-2dde-42a3-9793-7ae1be57c87f/3a9d119b-53ba-4768-bb88-57c3630cbed0? \"https://www.hdfcbank.com/content/api/contentstream-id/723fb80a-2dde-42a3-9793-7ae1be57c87f/3a9d119b-53ba-4768-bb88-57c3630cbed0?\") for Concierge T&C\n",
      "HDFC Bank Customer Service\n",
      "**Customer care numbers:**\n",
      "Toll Free: 1800 266 3310\n",
      "Landline: 022-6171 7606 (For customers travelling overseas)\n",
      "E-mail: infinia.services@hdfcbank.com»\n",
      "[4] «# [Marriott bonvoy credit card](https://www.hdfcbank.com/personal/pay/cards/credit-cards/marriott-bonvoy-credit-card)\n",
      "## Features\n",
      "#### Features\n",
      "\\*[Click here](/Personal/Pay/Cards/Credit Card/Credit Card Landing Page/Credit Cards/Co-Brand/Marriott Co-Brand Credit card/Card-Benefit-Terms-Conditions-clean-HDFC-Bank-response.pdf \"/Personal/Pay/Cards/Credit Card/Credit Card Landing Page/Credit Cards/Co-Brand/Marriott Co-Brand Credit card/Card-Benefit-Terms-Conditions-clean-HDFC-Bank-response.pdf\") to view detailed Terms and Conditions\n",
      "\\*\\*[Click here](/Personal/Pay/Cards/Credit Card/Credit Card Landing Page/Credit Cards/Co-Brand/Marriott Co-Brand Credit card/Golf-TC-Marriott.pdf \"/Personal/Pay/Cards/Credit Card/Credit Card Landing Page/Credit Cards/Co-Brand/Marriott Co-Brand Credit card/Golf-TC-Marriott.pdf\") to view detailed Terms and Conditions on Golf Lounge access»\n",
      "[5] «# [Regalia gold credit card](https://www.hdfcbank.com/personal/pay/cards/credit-cards/regalia-gold-credit-card)\n",
      "## Features\n",
      "#### Additional Features\n",
      "Additional Features\n",
      "* Zero Lost card liability : In the unfortunate event of losing your HDFC Bank Regalia Gold Credit Card, on reporting it immediately to our 24-hour call centre, you have zero liability on any fraudulent transactions made on your [Credit Card](/personal/pay/cards/credit-cards \"/personal/pay/cards/credit-cards\").\n",
      "* Foreign Currency Markup : 2% on all your foreign currency spends.\n",
      "* Revolving Credit : Enjoy Revolving Credit on your HDFC Bank Regalia Gold Credit Card at nominal interest rate. Refer to the Fees and Charges section to know more. [Click here](/personal/pay/cards/credit-cards/regalia-gold-credit-card/fees-and-charges \"/personal/pay/cards/credit-cards/regalia-gold-credit-card/fees-and-charges\").»\n",
      "[6] «# [Regalia gold credit card](https://www.hdfcbank.com/personal/pay/cards/credit-cards/regalia-gold-credit-card)\n",
      "## Features\n",
      "#### Reward Point/CashBack Redemption & Validity\n",
      "​​​​​​​Please [Click Here](/Personal/Pay/Cards/Credit Card/Credit Card Landing Page/Credit Cards/Super Premium/Regalia Gold Credit Card/Rewards-redemption-through-Smartbuy.pdf \"/Personal/Pay/Cards/Credit Card/Credit Card Landing Page/Credit Cards/Super Premium/Regalia Gold Credit Card/Rewards-redemption-through-Smartbuy.pdf\") to view reward points redemption process.\n",
      "Please [Click Here](/Personal/Pay/Cards/Credit Card/Credit Card Landing Page/Credit Cards/Super Premium/Regalia Gold Credit Card/Webpage-content-T-and-Cs.pdf \"/Personal/Pay/Cards/Credit Card/Credit Card Landing Page/Credit Cards/Super Premium/Regalia Gold Credit Card/Webpage-content-T-and-Cs.pdf\") to view reward points TnC.»\n",
      "[7] «# [Infinia credit card](https://www.hdfcbank.com/personal/pay/cards/credit-cards/infinia-credit-card)\n",
      "## Features\n",
      "#### Reward Point/CashBack Redemption & Validity\n",
      "\\*Please [click here](/Personal/Pay/Cards/Credit Card/Credit Card Landing Page/Credit Cards/Super Premium/Infinia/RP-Program-TnC.pdf \"/Personal/Pay/Cards/Credit Card/Credit Card Landing Page/Credit Cards/Super Premium/Infinia/RP-Program-TnC.pdf\") to know more\n",
      "[FAQs](/personal/need-help/faqs#/infinia \"FAQs\")\n",
      "# [Infinia credit card](https://www.hdfcbank.com/personal/pay/cards/credit-cards/infinia-credit-card)\n",
      "## Eligibility\n",
      "Membership for the **HDFC Bank Infinia Credit Card** is By Invite Only»\n",
      "[8] «# [Regalia gold credit card](https://www.hdfcbank.com/personal/pay/cards/credit-cards/regalia-gold-credit-card)\n",
      "## Features\n",
      "#### Smart EMI\n",
      "Smart EMI\n",
      "HDFC Bank Regalia Gold Credit Card comes with an option to convert your big spends into EMI after purchase. To know more [click here](/personal/borrow/loan-against-assets/smartemi \"/personal/borrow/loan-against-assets/smartemi\")»\n",
      "[9] «# [Diners club black](https://www.hdfcbank.com/personal/pay/cards/credit-cards/diners-club-black)\n",
      "## Features\n",
      "#### Additional Features\n",
      "* **Revolving Credit:** Available at a nominal interest rate on your HDFC Bank Diners Club Black Credit Card. Please refer to Fees and Charges section to know more [click here](/personal/pay/cards/credit-cards/diners-club-black/fees-and-charges \"/personal/pay/cards/credit-cards/diners-club-black/fees-and-charges\").»\n",
      "[10] «# [Hdfc bank upi rupay credit card](https://www.hdfcbank.com/personal/pay/cards/credit-cards/hdfc-bank-upi-rupay-credit-card)\n",
      "## Features\n",
      "#### Key Features:\n",
      "Key Features:\n",
      "* 3% Cashpoints on Groceries, SuperMarket & Dining spends & PayZapp transactions. (Maximum of 500 Points can be earned in a calendar month)\n",
      "* 2% Cashpoints on Utility spends (Maximum of 500 Points can be earned in a calendar month)\n",
      "* 1% Cashpoints on other spends (Excluding Rent, Wallet loads, EMI, Fuel, Insurance Payments & Government categories) (Maximum of 500 Points can be earned in a calendar month)\n",
      "**Note:** The above benefits are applicable for both UPI as well as regular credit card spends.\n",
      "For detailed Terms & conditions [Click here](/Personal/Pay/Cards/Credit Card/Credit Card Landing Page/Credit Cards/HDFC Bank UPI RuPay Credit Card/Terms-and-Conditions-HDFC-Bank-UPI-RuPay-Credit-Card-03042023.pdf \"/Personal/Pay/Cards/Credit Card/Credit Card Landing Page/Credit Cards/HDFC Bank UPI RuPay Credit Card/Terms-and-Conditions-HDFC-Bank-UPI-RuPay-Credit-Card-03042023.pdf\")»\n",
      "\n",
      "Question: Explain different types of credit cards?\n",
      "\n",
      "Reasoning: Let's think step by step in order to Let me break down the various types of credit cards mentioned: 1. **Infinia Credit Card**: This is a premium credit card offered by HDFC Bank, with features like reward points redemption and cashback offers. 2. **Regalia Gold Credit Card**: Another high-end offering from HDFC Bank, this card comes with smart EMI options for converting big spends into easy installments. 3. **Diners Club Black**: A travel-focused credit card that provides additional benefits such as revolving credit at a nominal interest rate and exclusive airport lounge access. These three cards cater to different segments of customers: * Infinia: For those seeking premium rewards and cashback offers * Regalia Gold: For individuals who want smart EMI options for big spends * Diners Club Black: For frequent travelers looking for travel-related benefits Now, let's look at the HDFC Bank UPI RuPay Credit Card. This card is specifically designed to provide: 1. **Cashpoints**: 3% cashback on groceries, supermarkets & dining; 2% on utility spends and 1% on other transactions 2. **UPI integration**\n",
      "\n",
      "Answer:\u001b[32m There are several types of credit cards offered by banks like HDFC Bank, each catering to different segments of customers with unique features and benefits.\n",
      "\n",
      "Here's a breakdown:\n",
      "\n",
      "* Infinia Credit Card (HDFC Bank): A premium card offering reward points redemption and cashback offers.\n",
      "* Regalia Gold Credit Card (HDFC Bank): A high-end card providing smart EMI options for converting big spends into easy installments.\n",
      "* Diners Club Black: A travel-focused credit card with revolving credit at a nominal interest rate, exclusive airport lounge access, and other benefits.\n",
      "\n",
      "The HDFC Bank UPI RuPay Credit Card is specifically designed to provide:\n",
      "\n",
      "1. Cashpoints:\n",
      "\t* 3% cashback on groceries, supermarkets & dining\n",
      "\t* 2% on utility spends (Maximum of ₹500 in a calendar month)\n",
      "\t* 1% on other transactions (excluding Rent, Wallet loads, EMI, Fuel, Insurance Payments & Government categories) (Maximum of ₹500 in a calendar month)\n",
      "\n",
      "These cards cater to different customer segments:\n",
      "\n",
      "* Infinia: For those seeking premium rewards and cashback offers\n",
      "* Regalia Gold: For individuals who want smart EMI options for big spends\n",
      "* Diners Club Black: For frequent travelers looking for travel-related benefits\n",
      "\n",
      "The HDFC Bank UPI RuPay Credit Card is designed with the following features in mind:\n",
      "\n",
      "1. Cashpoints on various transaction categories, including groceries and utilities.\n",
      "2. Integration with Unified Payments Interface (UPI) to facilitate seamless transactions.\n",
      "\n",
      "These credit cards offer a range of rewards, cashback offers, smart EMI options, travel benefits, or other perks tailored to specific customer needs.\u001b[0m\n",
      "\n",
      "\n",
      "\n"
     ]
    }
   ],
   "source": [
    "# Track llm history\n",
    "llm.inspect_history(n=1)"
   ]
  },
  {
   "cell_type": "code",
   "execution_count": 10,
   "id": "67937625-a908-46d0-9fad-bde455d8a058",
   "metadata": {},
   "outputs": [],
   "source": [
    "# Create Train and Test examples - Can also use HF Datasets\n",
    "train = [\n",
    "    {\n",
    "        \"question\" : \"What factors influence the dynamic adjustment of the number of replicas in autoscaling, and how is the autoscaling strategy determined based on the Queue Backlog?\",\n",
    "        \"answer\" : \"The dynamic adjustment of the number of replicas in autoscaling is influenced by the fluctuation in traffic or resource usage. Specifically, the autoscaling strategy is determined based on the Queue Backlog. When traffic or resource usage varies, the autoscaling strategy evaluates the Queue Backlog to decide the appropriate number of replicas between the defined minimum and maximum replica counts.\"\n",
    "    }, \n",
    "    {\n",
    "        \"question\" : \"What role do autoscaling metrics play in dynamically adjusting resource allocation for an async service?\",\n",
    "        \"answer\" : \"Autoscaling metrics play a crucial role in dynamically adjusting resource allocation for an async service by monitoring and responding to changing demands while maintaining optimal performance. These metrics, such as AWS SQS Average Backlog, provide insights into the queue length and help the autoscaler determine the appropriate resource allocation to handle incoming requests efficiently.\"\n",
    "    },\n",
    "    {\n",
    "        \"question\" : \"What is the purpose of creating teams within the Truefoundry platform, and how does it streamline resource management?\",\n",
    "        \"answer\" : \"Creating teams within the Truefoundry platform serves to streamline resource management by simplifying access control and allocation processes. Teams allow users to group individuals with similar responsibilities or access requirements, reducing the need to individually assign permissions for each resource. Additionally, teams facilitate efficient collaboration by providing a structured framework for managing access permissions across multiple resources.\"\n",
    "    },\n",
    "    {\n",
    "        \"question\" : \"How does the Truefoundry platform support role-based access control (RBAC) for managing user permissions?\",\n",
    "        \"answer\" : \"The Truefoundry platform supports role-based access control (RBAC) by assigning specific roles to users based on their responsibilities and access requirements. Each role defines a set of permissions that determine the actions users can perform on resources within the platform. By assigning roles to users, administrators can enforce security policies, restrict unauthorized access, and ensure compliance with data protection regulations.\"\n",
    "    },\n",
    "    {\n",
    "        \"question\" : \"What are the key benefits of using the Truefoundry platform for managing cloud resources?\",\n",
    "        \"answer\" : \"The Truefoundry platform offers several key benefits for managing cloud resources, including centralized resource management, automated provisioning, and enhanced security features. By providing a unified interface to monitor and control cloud resources, Truefoundry simplifies resource allocation, reduces operational overhead, and improves scalability. Additionally, automated provisioning capabilities streamline resource deployment processes, while security features such as RBAC and encryption enhance data protection and compliance.\"\n",
    "    },\n",
    "    {\n",
    "        \"question\" : \"What are the steps involved in creating your account on TrueFoundry?\",\n",
    "        \"answer\" : \"Navigate to the `create your account` page on the TrueFoundry website. Fill out the registration form with your company name, work email, username, and password. Click the `Create Account` button to submit the form.\"\n",
    "    },\n",
    "    {\n",
    "        \"question\" : \"What cloud providers are supported for creating Kubernetes clusters on TrueFoundry, and what are the recommended options for accessing all platform features?\",\n",
    "        \"answer\" : \"TrueFoundry supports AWS EKS, GCP GKE, and Azure AKS for creating Kubernetes clusters. For accessing all platform features, it is recommended to use one of these major cloud providers. Note that kind and minikube, while supported for local clusters, may not support all platform features.\"\n",
    "    },\n",
    "    {\n",
    "        \"question\" : \"What are TrueFoundry jobs, and in what scenarios are they particularly well-suited?\",\n",
    "        \"answer\" : \"TrueFoundry jobs are task-oriented workloads designed to run for a specific duration to complete a task and then terminate, releasing the resources. They are well-suited for scenarios such as model training on large datasets, routine maintenance tasks like data backups and report generation, and large-scale batch inference tasks.\"\n",
    "    },\n",
    "    {\n",
    "        \"question\" : \"What is an MLRepo in Truefoundry, and how does it differ from Git repositories?\",\n",
    "        \"answer\" : \"An MLRepo in Truefoundry serves the purpose of versioning ML models, artifacts, and metadata, similar to how Git repositories version code. However, MLRepos are specifically tailored for ML assets, and access to them can be granted to workspaces, enabling secure and controlled access to ML assets across teams and applications.\"\n",
    "    }\n",
    "]\n",
    "\n",
    "\n",
    "test = [\n",
    "    {\n",
    "        \"question\" : \"How can you view the details of a job run in TrueFoundry?\",\n",
    "        \"answer\" : \"You can view the details of a job run in TrueFoundry by accessing the Job Run section. This section provides information about the status and progress of the job run\"\n",
    "    },\n",
    "    {\n",
    "        \"question\" : \"What are key design principles of truefoundry?\",\n",
    "        \"answer\" : \"The key design principles of TrueFoundry are: Cloud Native: TrueFoundry operates on Kubernetes, allowing it to function on various cloud providers or on-premises environments. ML Inherits the same SRE principles as the rest of the infrastructure: TrueFoundry seamlessly integrates with your existing software stack, providing ML teams with the same SRE (Site Reliability Engineering), security, and cost optimization features. No Vendor Lockin: TrueFoundry is designed to avoid vendor lock-in. It ensures easy migration by providing accessible APIs and exposing all Kubernetes manifests generated, enabling smooth transition if needed.\"\n",
    "    },\n",
    "    {\n",
    "        \"question\" : \"What architecture does TrueFoundry follow, and what benefits does it offer?\",\n",
    "        \"answer\" : \"TrueFoundry follows a split-plane architecture, enabling both on-premises deployment and ensuring that service reliability does not rely solely on TrueFoundry. This architecture enhances reliability and flexibility while allowing for customization based on specific organizational needs.\"\n",
    "    },\n",
    "    {\n",
    "        \"question\" : \"How is the organization of workspaces typically structured within a cluster?\",\n",
    "        \"answer\" : \"Workspaces within a cluster can be organized based on teams, applications, and environments. For example, different teams may manage various applications, each with its own set of environments such as development, staging, and production.\"\n",
    "    },\n",
    "    {\n",
    "        \"question\" : \"How can a user create a workspace in Truefoundry?\",\n",
    "        \"answer\" : \"To create a workspace in Truefoundry, users can navigate to the Workspace tab in the platform and click on the `Create Workspace` button. Once created, users can obtain the Fully Qualified Name (FQN) of the workspace from the FQN button.\"\n",
    "    },\n",
    "    {\n",
    "        \"question\" : \"What is the process for creating an ML Repo in Truefoundry?\",\n",
    "        \"answer\" : \"To create an ML Repo in Truefoundry, users need to have at least one Storage Integration configured. They can then access the list of storage integrations from the dropdown menu and select one to associate with the ML Repo. After selecting a storage integration, users can create an ML Repo from the ML Repo's tab in the platform.\"\n",
    "    },\n",
    "]"
   ]
  },
  {
   "cell_type": "code",
   "execution_count": 11,
   "id": "13d5888a-e7bb-46f1-a2b1-9546512584bd",
   "metadata": {},
   "outputs": [],
   "source": [
    "from dspy import Example\n",
    "\n",
    "# Tell DSPy that the 'question' field is the input. Any other fields are labels and/or metadata.\n",
    "trainset = [Example(**data).with_inputs('question') for data in train]\n",
    "testset = [Example(**data).with_inputs('question') for data in test]"
   ]
  },
  {
   "cell_type": "code",
   "execution_count": 12,
   "id": "ec761eaf-3bf9-4c01-a891-0ec2c3b5bdea",
   "metadata": {},
   "outputs": [
    {
     "data": {
      "text/plain": [
       "Example({'question': 'What factors influence the dynamic adjustment of the number of replicas in autoscaling, and how is the autoscaling strategy determined based on the Queue Backlog?', 'answer': 'The dynamic adjustment of the number of replicas in autoscaling is influenced by the fluctuation in traffic or resource usage. Specifically, the autoscaling strategy is determined based on the Queue Backlog. When traffic or resource usage varies, the autoscaling strategy evaluates the Queue Backlog to decide the appropriate number of replicas between the defined minimum and maximum replica counts.'}) (input_keys={'question'})"
      ]
     },
     "execution_count": 12,
     "metadata": {},
     "output_type": "execute_result"
    }
   ],
   "source": [
    "trainset[0]"
   ]
  },
  {
   "cell_type": "code",
   "execution_count": 13,
   "id": "1bb1fb3d-f66a-405c-b7f9-ded204ca7a32",
   "metadata": {},
   "outputs": [
    {
     "data": {
      "text/plain": [
       "(9, 6)"
      ]
     },
     "execution_count": 13,
     "metadata": {},
     "output_type": "execute_result"
    }
   ],
   "source": [
    "len(trainset), len(testset)"
   ]
  },
  {
   "cell_type": "code",
   "execution_count": 14,
   "id": "4d534674-de33-4c9a-a836-80d6a4ab12af",
   "metadata": {},
   "outputs": [],
   "source": [
    "from dspy.teleprompt import BootstrapFewShot\n",
    "\n",
    "# Validation logic: check that the predicted answer is correct.\n",
    "# Also check that the retrieved context does actually contain that answer.\n",
    "def validate_context_and_answer(example, pred, trace=None):\n",
    "    answer_EM = dspy.evaluate.answer_exact_match(example, pred)\n",
    "    answer_PM = dspy.evaluate.answer_passage_match(example, pred)\n",
    "    return answer_EM and answer_PM"
   ]
  },
  {
   "cell_type": "code",
   "execution_count": 15,
   "id": "af922190-99f2-4f87-937f-754273a24930",
   "metadata": {},
   "outputs": [],
   "source": [
    "# Set up a basic optimizer, which will compile our RAG program.\n",
    "optimizer = BootstrapFewShot(metric=validate_context_and_answer)"
   ]
  },
  {
   "cell_type": "code",
   "execution_count": 16,
   "id": "25f29a07-0f3d-4613-b54a-1ef77dc5a38c",
   "metadata": {},
   "outputs": [
    {
     "data": {
      "text/plain": [
       "[('generate_answer',\n",
       "  ChainOfThought(GenerateAnswer(context, question -> answer\n",
       "      instructions='Answer the question in detail using the context.'\n",
       "      context = Field(annotation=str required=True json_schema_extra={'desc': 'Contains relevant facts to answer the question', '__dspy_field_type': 'input', 'prefix': 'Context:'})\n",
       "      question = Field(annotation=str required=True json_schema_extra={'__dspy_field_type': 'input', 'prefix': 'Question:', 'desc': '${question}'})\n",
       "      answer = Field(annotation=str required=True json_schema_extra={'desc': 'Detailed answer with respect to given question and context', '__dspy_field_type': 'output', 'prefix': 'Answer:'})\n",
       "  )))]"
      ]
     },
     "execution_count": 16,
     "metadata": {},
     "output_type": "execute_result"
    }
   ],
   "source": [
    "uncompiled_rag.named_predictors()"
   ]
  },
  {
   "cell_type": "code",
   "execution_count": 17,
   "id": "db480b69-19b4-4d6d-ba6c-8b6f98e69f90",
   "metadata": {},
   "outputs": [
    {
     "name": "stderr",
     "output_type": "stream",
     "text": [
      "  0%|                                                                                                                                                  | 0/9 [00:00<?, ?it/s]"
     ]
    },
    {
     "data": {
      "application/vnd.jupyter.widget-view+json": {
       "model_id": "e5c19179138e4c3dbd5e71ec16b2c001",
       "version_major": 2,
       "version_minor": 0
      },
      "text/plain": [
       "  0%|          | 0/1 [00:00<?, ?it/s]"
      ]
     },
     "metadata": {},
     "output_type": "display_data"
    },
    {
     "name": "stderr",
     "output_type": "stream",
     "text": [
      " 11%|███████████████▎                                                                                                                          | 1/9 [00:09<01:17,  9.71s/it]"
     ]
    },
    {
     "data": {
      "application/vnd.jupyter.widget-view+json": {
       "model_id": "ced25084a6684b4f9860637ca9d918d2",
       "version_major": 2,
       "version_minor": 0
      },
      "text/plain": [
       "  0%|          | 0/1 [00:00<?, ?it/s]"
      ]
     },
     "metadata": {},
     "output_type": "display_data"
    },
    {
     "name": "stderr",
     "output_type": "stream",
     "text": [
      " 22%|██████████████████████████████▋                                                                                                           | 2/9 [00:20<01:11, 10.27s/it]"
     ]
    },
    {
     "data": {
      "application/vnd.jupyter.widget-view+json": {
       "model_id": "7ff8a6e3fee64a528c598d20114daf45",
       "version_major": 2,
       "version_minor": 0
      },
      "text/plain": [
       "  0%|          | 0/1 [00:00<?, ?it/s]"
      ]
     },
     "metadata": {},
     "output_type": "display_data"
    },
    {
     "name": "stderr",
     "output_type": "stream",
     "text": [
      " 33%|██████████████████████████████████████████████                                                                                            | 3/9 [00:25<00:48,  8.02s/it]"
     ]
    },
    {
     "data": {
      "application/vnd.jupyter.widget-view+json": {
       "model_id": "76f17e1828544e8883205a9e2a6ef138",
       "version_major": 2,
       "version_minor": 0
      },
      "text/plain": [
       "  0%|          | 0/1 [00:00<?, ?it/s]"
      ]
     },
     "metadata": {},
     "output_type": "display_data"
    },
    {
     "name": "stderr",
     "output_type": "stream",
     "text": [
      " 44%|█████████████████████████████████████████████████████████████▎                                                                            | 4/9 [00:36<00:45,  9.02s/it]"
     ]
    },
    {
     "data": {
      "application/vnd.jupyter.widget-view+json": {
       "model_id": "b5244df1fc3d43c399fa25082efcaa62",
       "version_major": 2,
       "version_minor": 0
      },
      "text/plain": [
       "  0%|          | 0/1 [00:00<?, ?it/s]"
      ]
     },
     "metadata": {},
     "output_type": "display_data"
    },
    {
     "name": "stderr",
     "output_type": "stream",
     "text": [
      " 56%|████████████████████████████████████████████████████████████████████████████▋                                                             | 5/9 [00:41<00:30,  7.69s/it]"
     ]
    },
    {
     "data": {
      "application/vnd.jupyter.widget-view+json": {
       "model_id": "964efdd0e54a4c6bb39b9cae024b094e",
       "version_major": 2,
       "version_minor": 0
      },
      "text/plain": [
       "  0%|          | 0/1 [00:00<?, ?it/s]"
      ]
     },
     "metadata": {},
     "output_type": "display_data"
    },
    {
     "name": "stderr",
     "output_type": "stream",
     "text": [
      " 67%|████████████████████████████████████████████████████████████████████████████████████████████                                              | 6/9 [00:46<00:20,  6.75s/it]"
     ]
    },
    {
     "data": {
      "application/vnd.jupyter.widget-view+json": {
       "model_id": "b9e81cbd53a342c1aaf0ddbc7b07fe0d",
       "version_major": 2,
       "version_minor": 0
      },
      "text/plain": [
       "  0%|          | 0/1 [00:00<?, ?it/s]"
      ]
     },
     "metadata": {},
     "output_type": "display_data"
    },
    {
     "name": "stderr",
     "output_type": "stream",
     "text": [
      " 78%|███████████████████████████████████████████████████████████████████████████████████████████████████████████▎                              | 7/9 [00:56<00:15,  7.69s/it]"
     ]
    },
    {
     "data": {
      "application/vnd.jupyter.widget-view+json": {
       "model_id": "7743432abbd74b72acd6e201fb312bbd",
       "version_major": 2,
       "version_minor": 0
      },
      "text/plain": [
       "  0%|          | 0/1 [00:00<?, ?it/s]"
      ]
     },
     "metadata": {},
     "output_type": "display_data"
    },
    {
     "name": "stderr",
     "output_type": "stream",
     "text": [
      " 89%|██████████████████████████████████████████████████████████████████████████████████████████████████████████████████████████▋               | 8/9 [01:11<00:10, 10.28s/it]"
     ]
    },
    {
     "data": {
      "application/vnd.jupyter.widget-view+json": {
       "model_id": "9f1d99a910b5483585134a35f4892e15",
       "version_major": 2,
       "version_minor": 0
      },
      "text/plain": [
       "  0%|          | 0/1 [00:00<?, ?it/s]"
      ]
     },
     "metadata": {},
     "output_type": "display_data"
    },
    {
     "name": "stderr",
     "output_type": "stream",
     "text": [
      "100%|██████████████████████████████████████████████████████████████████████████████████████████████████████████████████████████████████████████| 9/9 [01:31<00:00, 10.13s/it]"
     ]
    },
    {
     "name": "stdout",
     "output_type": "stream",
     "text": [
      "Bootstrapped 0 full traces after 9 examples in round 0.\n"
     ]
    },
    {
     "name": "stderr",
     "output_type": "stream",
     "text": [
      "\n"
     ]
    }
   ],
   "source": [
    "# Compile!\n",
    "compiled_rag = optimizer.compile(RAG(), trainset=trainset)"
   ]
  },
  {
   "cell_type": "code",
   "execution_count": 18,
   "id": "bda63e09-24a9-44a9-b196-d2747291efc3",
   "metadata": {},
   "outputs": [
    {
     "data": {
      "application/vnd.jupyter.widget-view+json": {
       "model_id": "194e477a69a14001a0034bfbb8681837",
       "version_major": 2,
       "version_minor": 0
      },
      "text/plain": [
       "  0%|          | 0/1 [00:00<?, ?it/s]"
      ]
     },
     "metadata": {},
     "output_type": "display_data"
    },
    {
     "data": {
      "application/vnd.jupyter.widget-view+json": {
       "model_id": "4480d62da5314f10893df08a3060d224",
       "version_major": 2,
       "version_minor": 0
      },
      "text/plain": [
       "  0%|          | 0/1 [00:00<?, ?it/s]"
      ]
     },
     "metadata": {},
     "output_type": "display_data"
    },
    {
     "name": "stderr",
     "output_type": "stream",
     "text": [
      "\n",
      "\n",
      "\n",
      "\n"
     ]
    },
    {
     "data": {
      "application/vnd.jupyter.widget-view+json": {
       "model_id": "4c18f9e7a56c412e82b49c7b199bbe1d",
       "version_major": 2,
       "version_minor": 0
      },
      "text/plain": [
       "  0%|          | 0/1 [00:00<?, ?it/s]"
      ]
     },
     "metadata": {},
     "output_type": "display_data"
    },
    {
     "data": {
      "application/vnd.jupyter.widget-view+json": {
       "model_id": "6bd5262c6ff142f0890a5ffa0fab8333",
       "version_major": 2,
       "version_minor": 0
      },
      "text/plain": [
       "  0%|          | 0/1 [00:00<?, ?it/s]"
      ]
     },
     "metadata": {},
     "output_type": "display_data"
    },
    {
     "name": "stderr",
     "output_type": "stream",
     "text": [
      "  0%|                                                                                                                                                  | 0/9 [00:00<?, ?it/s]\u001b[A\u001b[A\u001b[A\u001b[A\n",
      "\n",
      "\n",
      "\n",
      "Average Metric: 0 / 1  (0.0):   0%|                                                                                                                    | 0/9 [00:46<?, ?it/s]\u001b[A\u001b[A\u001b[A\u001b[A\n",
      "\n",
      "\n",
      "\n",
      "Average Metric: 0 / 1  (0.0):  11%|████████████                                                                                                | 1/9 [00:46<06:08, 46.05s/it]\u001b[A\u001b[A\u001b[A\u001b[A"
     ]
    },
    {
     "data": {
      "application/vnd.jupyter.widget-view+json": {
       "model_id": "7abb07ba3fd24feabfd888644d453386",
       "version_major": 2,
       "version_minor": 0
      },
      "text/plain": [
       "  0%|          | 0/1 [00:00<?, ?it/s]"
      ]
     },
     "metadata": {},
     "output_type": "display_data"
    },
    {
     "name": "stderr",
     "output_type": "stream",
     "text": [
      "\n",
      "\n",
      "\n",
      "\n",
      "Average Metric: 0 / 2  (0.0):  11%|████████████                                                                                                | 1/9 [01:03<06:08, 46.05s/it]\u001b[A\u001b[A\u001b[A\u001b[A\n",
      "\n",
      "\n",
      "\n",
      "Average Metric: 0 / 2  (0.0):  22%|████████████████████████                                                                                    | 2/9 [01:03<03:26, 29.48s/it]\u001b[A\u001b[A\u001b[A\u001b[A"
     ]
    },
    {
     "data": {
      "application/vnd.jupyter.widget-view+json": {
       "model_id": "bf756b75cacb44d5981a295f92fe755e",
       "version_major": 2,
       "version_minor": 0
      },
      "text/plain": [
       "  0%|          | 0/1 [00:00<?, ?it/s]"
      ]
     },
     "metadata": {},
     "output_type": "display_data"
    },
    {
     "name": "stderr",
     "output_type": "stream",
     "text": [
      "\n",
      "\n",
      "\n",
      "\n",
      "Average Metric: 0 / 3  (0.0):  22%|████████████████████████                                                                                    | 2/9 [01:20<03:26, 29.48s/it]\u001b[A\u001b[A\u001b[A\u001b[A\n",
      "\n",
      "\n",
      "\n",
      "Average Metric: 0 / 3  (0.0):  33%|████████████████████████████████████                                                                        | 3/9 [01:20<02:20, 23.47s/it]\u001b[A\u001b[A\u001b[A\u001b[A"
     ]
    },
    {
     "data": {
      "application/vnd.jupyter.widget-view+json": {
       "model_id": "ba84fd32a5ce4fe3bd2e843936dad731",
       "version_major": 2,
       "version_minor": 0
      },
      "text/plain": [
       "  0%|          | 0/1 [00:00<?, ?it/s]"
      ]
     },
     "metadata": {},
     "output_type": "display_data"
    },
    {
     "name": "stderr",
     "output_type": "stream",
     "text": [
      "\n",
      "\n",
      "\n",
      "\n",
      "Average Metric: 0 / 4  (0.0):  33%|████████████████████████████████████                                                                        | 3/9 [01:27<02:20, 23.47s/it]\u001b[A\u001b[A\u001b[A\u001b[A\n",
      "\n",
      "\n",
      "\n",
      "Average Metric: 0 / 4  (0.0):  44%|████████████████████████████████████████████████                                                            | 4/9 [01:27<01:25, 17.19s/it]\u001b[A\u001b[A\u001b[A\u001b[A"
     ]
    },
    {
     "data": {
      "application/vnd.jupyter.widget-view+json": {
       "model_id": "210797cd70e04280967a700d7aa9d537",
       "version_major": 2,
       "version_minor": 0
      },
      "text/plain": [
       "  0%|          | 0/1 [00:00<?, ?it/s]"
      ]
     },
     "metadata": {},
     "output_type": "display_data"
    },
    {
     "name": "stderr",
     "output_type": "stream",
     "text": [
      "\n",
      "\n",
      "\n",
      "\n",
      "Average Metric: 0 / 5  (0.0):  44%|████████████████████████████████████████████████                                                            | 4/9 [02:03<01:25, 17.19s/it]\u001b[A\u001b[A\u001b[A\u001b[A\n",
      "\n",
      "\n",
      "\n",
      "Average Metric: 0 / 5  (0.0):  56%|████████████████████████████████████████████████████████████                                                | 5/9 [02:03<01:35, 23.90s/it]\u001b[A\u001b[A\u001b[A\u001b[A"
     ]
    },
    {
     "data": {
      "application/vnd.jupyter.widget-view+json": {
       "model_id": "2976bf9e699a4010906b708a24b6f8fe",
       "version_major": 2,
       "version_minor": 0
      },
      "text/plain": [
       "  0%|          | 0/1 [00:00<?, ?it/s]"
      ]
     },
     "metadata": {},
     "output_type": "display_data"
    },
    {
     "name": "stderr",
     "output_type": "stream",
     "text": [
      "\n",
      "\n",
      "\n",
      "\n",
      "Average Metric: 0 / 6  (0.0):  56%|████████████████████████████████████████████████████████████                                                | 5/9 [02:08<01:35, 23.90s/it]\u001b[A\u001b[A\u001b[A\u001b[A\n",
      "\n",
      "\n",
      "\n",
      "Average Metric: 0 / 6  (0.0):  67%|████████████████████████████████████████████████████████████████████████                                    | 6/9 [02:08<00:52, 17.56s/it]\u001b[A\u001b[A\u001b[A\u001b[A\n",
      "\n",
      "\n",
      "\n",
      "Average Metric: 0 / 7  (0.0):  67%|████████████████████████████████████████████████████████████████████████                                    | 6/9 [02:18<00:52, 17.56s/it]\u001b[A\u001b[A\u001b[A\u001b[A\n",
      "\n",
      "\n",
      "\n",
      "Average Metric: 0 / 7  (0.0):  78%|████████████████████████████████████████████████████████████████████████████████████                        | 7/9 [02:18<00:30, 15.11s/it]\u001b[A\u001b[A\u001b[A\u001b[A\n",
      "\n",
      "\n",
      "\n",
      "Average Metric: 0 / 8  (0.0):  78%|████████████████████████████████████████████████████████████████████████████████████                        | 7/9 [02:22<00:30, 15.11s/it]\u001b[A\u001b[A\u001b[A\u001b[A\n",
      "\n",
      "\n",
      "\n",
      "Average Metric: 0 / 8  (0.0):  89%|████████████████████████████████████████████████████████████████████████████████████████████████            | 8/9 [02:22<00:11, 11.59s/it]\u001b[A\u001b[A\u001b[A\u001b[A\n",
      "\n",
      "\n",
      "\n",
      "Average Metric: 0 / 9  (0.0):  89%|████████████████████████████████████████████████████████████████████████████████████████████████            | 8/9 [02:52<00:11, 11.59s/it]\u001b[A\u001b[A\u001b[A\u001b[A\n",
      "\n",
      "\n",
      "\n",
      "Average Metric: 0 / 9  (0.0): 100%|████████████████████████████████████████████████████████████████████████████████████████████████████████████| 9/9 [02:52<00:00, 19.17s/it]\u001b[A\u001b[A\u001b[A\u001b[A"
     ]
    },
    {
     "name": "stdout",
     "output_type": "stream",
     "text": [
      "Average Metric: 0 / 9  (0.0%)\n"
     ]
    },
    {
     "name": "stderr",
     "output_type": "stream",
     "text": [
      "\n",
      "/Users/prathamesh/TrueFoundry/learn-dspy/venv/lib/python3.11/site-packages/dspy/evaluate/evaluate.py:266: FutureWarning: Setting an item of incompatible dtype is deprecated and will raise in a future error of pandas. Value '['False' 'False' 'False' 'False' 'False']' has dtype incompatible with bool, please explicitly cast to a compatible dtype first.\n",
      "  df.loc[:, metric_name] = df[metric_name].apply(\n"
     ]
    },
    {
     "data": {
      "text/html": [
       "<style type=\"text/css\">\n",
       "#T_68f60 th {\n",
       "  text-align: left;\n",
       "}\n",
       "#T_68f60 td {\n",
       "  text-align: left;\n",
       "}\n",
       "#T_68f60_row0_col0, #T_68f60_row0_col1, #T_68f60_row0_col2, #T_68f60_row0_col3, #T_68f60_row0_col4, #T_68f60_row1_col0, #T_68f60_row1_col1, #T_68f60_row1_col2, #T_68f60_row1_col3, #T_68f60_row1_col4, #T_68f60_row2_col0, #T_68f60_row2_col1, #T_68f60_row2_col2, #T_68f60_row2_col3, #T_68f60_row2_col4, #T_68f60_row3_col0, #T_68f60_row3_col1, #T_68f60_row3_col2, #T_68f60_row3_col3, #T_68f60_row3_col4, #T_68f60_row4_col0, #T_68f60_row4_col1, #T_68f60_row4_col2, #T_68f60_row4_col3, #T_68f60_row4_col4 {\n",
       "  text-align: left;\n",
       "  white-space: pre-wrap;\n",
       "  word-wrap: break-word;\n",
       "  max-width: 400px;\n",
       "}\n",
       "</style>\n",
       "<table id=\"T_68f60\">\n",
       "  <thead>\n",
       "    <tr>\n",
       "      <th class=\"blank level0\" >&nbsp;</th>\n",
       "      <th id=\"T_68f60_level0_col0\" class=\"col_heading level0 col0\" >question</th>\n",
       "      <th id=\"T_68f60_level0_col1\" class=\"col_heading level0 col1\" >example_answer</th>\n",
       "      <th id=\"T_68f60_level0_col2\" class=\"col_heading level0 col2\" >context</th>\n",
       "      <th id=\"T_68f60_level0_col3\" class=\"col_heading level0 col3\" >pred_answer</th>\n",
       "      <th id=\"T_68f60_level0_col4\" class=\"col_heading level0 col4\" >validate_context_and_answer</th>\n",
       "    </tr>\n",
       "  </thead>\n",
       "  <tbody>\n",
       "    <tr>\n",
       "      <th id=\"T_68f60_level0_row0\" class=\"row_heading level0 row0\" >0</th>\n",
       "      <td id=\"T_68f60_row0_col0\" class=\"data row0 col0\" >What factors influence the dynamic adjustment of the number of replicas in autoscaling, and how is the autoscaling strategy determined based on the Queue Backlog?</td>\n",
       "      <td id=\"T_68f60_row0_col1\" class=\"data row0 col1\" >The dynamic adjustment of the number of replicas in autoscaling is influenced by the fluctuation in traffic or resource usage. Specifically, the autoscaling strategy is...</td>\n",
       "      <td id=\"T_68f60_row0_col2\" class=\"data row0 col2\" >['# [Indianoil hdfc bank credit card](https://www.hdfcbank.com/personal/pay/cards/credit-cards/indianoil-hdfc-bank-credit-card)\\n## Features\\n#### Reward Point/CashBack Redemption & Validity\\n* Redeem Fuel Points through NetBanking towards catalogue products (where 1 FP = upto...</td>\n",
       "      <td id=\"T_68f60_row0_col3\" class=\"data row0 col3\" >I'm happy to help! The dynamic adjustment of the number of replicas in autoscaling is influenced by several factors, including: 1. **Queue Length**: The number...</td>\n",
       "      <td id=\"T_68f60_row0_col4\" class=\"data row0 col4\" >False</td>\n",
       "    </tr>\n",
       "    <tr>\n",
       "      <th id=\"T_68f60_level0_row1\" class=\"row_heading level0 row1\" >1</th>\n",
       "      <td id=\"T_68f60_row1_col0\" class=\"data row1 col0\" >What role do autoscaling metrics play in dynamically adjusting resource allocation for an async service?</td>\n",
       "      <td id=\"T_68f60_row1_col1\" class=\"data row1 col1\" >Autoscaling metrics play a crucial role in dynamically adjusting resource allocation for an async service by monitoring and responding to changing demands while maintaining optimal...</td>\n",
       "      <td id=\"T_68f60_row1_col2\" class=\"data row1 col2\" >['# [Indianoil hdfc bank credit card](https://www.hdfcbank.com/personal/pay/cards/credit-cards/indianoil-hdfc-bank-credit-card)\\n## Features\\n#### Reward Point/CashBack Redemption & Validity\\n* Redeem Fuel Points through NetBanking towards catalogue products (where 1 FP = upto...</td>\n",
       "      <td id=\"T_68f60_row1_col3\" class=\"data row1 col3\" >Autoscaling Metrics Play Step AutosScaling Monitor LatThroughRequestLatCPUUsageMemoryUtilReasoningLetStepAsyncServiceInstanceautoscale autoscale async service instance autoscaled monitor performance request latency through memory util reasonings let step Async Service Instance...</td>\n",
       "      <td id=\"T_68f60_row1_col4\" class=\"data row1 col4\" >False</td>\n",
       "    </tr>\n",
       "    <tr>\n",
       "      <th id=\"T_68f60_level0_row2\" class=\"row_heading level0 row2\" >2</th>\n",
       "      <td id=\"T_68f60_row2_col0\" class=\"data row2 col0\" >What is the purpose of creating teams within the Truefoundry platform, and how does it streamline resource management?</td>\n",
       "      <td id=\"T_68f60_row2_col1\" class=\"data row2 col1\" >Creating teams within the Truefoundry platform serves to streamline resource management by simplifying access control and allocation processes. Teams allow users to group individuals with...</td>\n",
       "      <td id=\"T_68f60_row2_col2\" class=\"data row2 col2\" >['# [Infinia credit card](https://www.hdfcbank.com/personal/pay/cards/credit-cards/infinia-credit-card)\\n## Features\\n#### Reward Point/CashBack Redemption & Validity\\n\\\\*Please\\xa0[click here](/Personal/Pay/Cards/Credit Card/Credit Card Landing Page/Credit Cards/Super Premium/Infinia/RP-Program-TnC.pdf \"/Personal/Pay/Cards/Credit Card/Credit Card Landing Page/Credit Cards/Super Premium/Infinia/RP-Program-TnC.pdf\")\\xa0to know...</td>\n",
       "      <td id=\"T_68f60_row2_col3\" class=\"data row2 col3\" >I apologize for the confusion earlier. It seems like you didn't provide any information about Truefoundry or teams within it. However, if we assume a...</td>\n",
       "      <td id=\"T_68f60_row2_col4\" class=\"data row2 col4\" >False</td>\n",
       "    </tr>\n",
       "    <tr>\n",
       "      <th id=\"T_68f60_level0_row3\" class=\"row_heading level0 row3\" >3</th>\n",
       "      <td id=\"T_68f60_row3_col0\" class=\"data row3 col0\" >How does the Truefoundry platform support role-based access control (RBAC) for managing user permissions?</td>\n",
       "      <td id=\"T_68f60_row3_col1\" class=\"data row3 col1\" >The Truefoundry platform supports role-based access control (RBAC) by assigning specific roles to users based on their responsibilities and access requirements. Each role defines a...</td>\n",
       "      <td id=\"T_68f60_row3_col2\" class=\"data row3 col2\" >['# [Infinia credit card](https://www.hdfcbank.com/personal/pay/cards/credit-cards/infinia-credit-card)\\n## Features\\n#### Good Food Trail Program\\nGood Food Trail Program\\nEnjoy amazing dining benefits with Good Food Trail program\\nGet\\xa0additional 15% off on all your...</td>\n",
       "      <td id=\"T_68f60_row3_col3\" class=\"data row3 col3\" >I'm happy to help! However, as mentioned earlier, there is no mention of \"Truefoundry\" or any related information. It seems like the text provided might...</td>\n",
       "      <td id=\"T_68f60_row3_col4\" class=\"data row3 col4\" >False</td>\n",
       "    </tr>\n",
       "    <tr>\n",
       "      <th id=\"T_68f60_level0_row4\" class=\"row_heading level0 row4\" >4</th>\n",
       "      <td id=\"T_68f60_row4_col0\" class=\"data row4 col0\" >What are the key benefits of using the Truefoundry platform for managing cloud resources?</td>\n",
       "      <td id=\"T_68f60_row4_col1\" class=\"data row4 col1\" >The Truefoundry platform offers several key benefits for managing cloud resources, including centralized resource management, automated provisioning, and enhanced security features. By providing a unified...</td>\n",
       "      <td id=\"T_68f60_row4_col2\" class=\"data row4 col2\" >['# [Marriott bonvoy credit card](https://www.hdfcbank.com/personal/pay/cards/credit-cards/marriott-bonvoy-credit-card)\\n## Features\\n#### Welcome Benefit\\nWelcome Benefit\\n1 Free Night Award on Joining fee realization (up to a value of 15,000 Marriott Bonvoy Points)\\nComplimentary...</td>\n",
       "      <td id=\"T_68f60_row4_col3\" class=\"data row4 col3\" >I think there may be some confusion here! The provided texts appear to be promotional materials for various credit cards offered by HDFC Bank, such...</td>\n",
       "      <td id=\"T_68f60_row4_col4\" class=\"data row4 col4\" >False</td>\n",
       "    </tr>\n",
       "  </tbody>\n",
       "</table>\n"
      ],
      "text/plain": [
       "<pandas.io.formats.style.Styler at 0x3668b2910>"
      ]
     },
     "metadata": {},
     "output_type": "display_data"
    },
    {
     "data": {
      "text/html": [
       "\n",
       "                <div style='\n",
       "                    text-align: center;\n",
       "                    font-size: 16px;\n",
       "                    font-weight: bold;\n",
       "                    color: #555;\n",
       "                    margin: 10px 0;'>\n",
       "                    ... 4 more rows not displayed ...\n",
       "                </div>\n",
       "                "
      ],
      "text/plain": [
       "<IPython.core.display.HTML object>"
      ]
     },
     "metadata": {},
     "output_type": "display_data"
    },
    {
     "data": {
      "text/plain": [
       "0.0"
      ]
     },
     "execution_count": 18,
     "metadata": {},
     "output_type": "execute_result"
    }
   ],
   "source": [
    "from dspy.evaluate.evaluate import Evaluate\n",
    "# Set up the `evaluate_on_dataset` function. We'll use this many times below.\n",
    "evaluate_on_dataset = Evaluate(devset=trainset, num_threads=4, display_progress=True, display_table=5)\n",
    "evaluate_on_dataset(compiled_rag, metric=validate_context_and_answer)"
   ]
  },
  {
   "cell_type": "code",
   "execution_count": 19,
   "id": "cd11f781-fab6-414c-9e17-79acbd242625",
   "metadata": {},
   "outputs": [
    {
     "data": {
      "application/vnd.jupyter.widget-view+json": {
       "model_id": "c27145188e5447d7bed446fbddd9f2d9",
       "version_major": 2,
       "version_minor": 0
      },
      "text/plain": [
       "  0%|          | 0/1 [00:00<?, ?it/s]"
      ]
     },
     "metadata": {},
     "output_type": "display_data"
    },
    {
     "name": "stdout",
     "output_type": "stream",
     "text": [
      "Answer: Here's an explanation of the main types of storage classes:\n",
      "\n",
      "**Stack**: A stack follows the LIFO principle, where data is added to and removed from one end only. This means that when you add a new element (like a plate), it goes on top, and when you remove an element, it comes off last.\n",
      "\n",
      "Example: Think about stacking plates - each time you put down another plate, it gets stacked on the previous ones. When serving dinner, we take them out in reverse order!\n",
      "\n",
      "**Queue**: A queue follows the FIFO principle (First In First Out), where data is added to one end and removed from the other. This means that when a new element arrives, it goes at the front of the line.\n",
      "\n",
      "Example: Picture waiting for your turn at a bank - you join behind others who arrived before you!\n",
      "\n",
      "**Heap**: A heap stores elements in order based on their priority or value (like an emergency response system prioritizing calls by severity). This allows efficient retrieval and manipulation of data according to its importance.\n",
      "\n",
      "Example: Imagine responding to emergencies like fires, medical issues, or accidents. The most critical ones get addressed first! \n",
      "\n",
      "Lastly:\n",
      "\n",
      "**Linked List**: A linked list is a sequence of nodes connected through pointers (like cars in line).\n",
      "\n",
      "These storage classes have different use cases:\n",
      "1. Stack for LIFO operations\n",
      "2. Queue for FIFO processes\n",
      "3. Heap priority-based Storage Class\n",
      "\n",
      "Each has its own strengths and weaknesses, making them essential tools for efficient data management!\n",
      "====================================\n",
      "\n",
      "\n",
      "Context: ('# [Indianoil hdfc bank credit card](https://www.hdfcbank.com/personal/pay/cards/credit-cards/indianoil-hdfc-bank-credit-card)\\n## Features\\n#### Reward Point/CashBack Redemption & Validity\\n* Redeem Fuel Points through NetBanking towards catalogue products (where 1 FP = upto 20 paise)\\n* Redeem Fuel Points as CashBack on your IndianOil HDFC Bank Credit Card. (Cashback Redemption against Statement balance where 1 FP = 20 Paise)\\n|  |  |\\n| --- | --- |\\n| **Cost per Point (in Rs.)** | **IOCL Fuel Points (in Rs.)** |\\n| **Product Catalogue** | **Cash back** |\\n| Upto 0.20 | 0.20 | 1 Fuel Point = 3 XtraRewards Point (XRP)1 XRP = 0.321 Fuel Point = 0.96 |\\n**Fuel Points Validity:**\\n* Fuel Points are valid for a period of 2 years.\\n1. Redemption\\xa0of Reward Points to\\xa0Cashback\\xa0and Travel\\xa0categories\\xa0will be capped at 50,000 points per month per customer\\n2. Accrual\\xa0of Reward Points on\\xa0Grocery Spends\\xa0will be capped at 1000 points per month per customer\\n3. There will be no Reward Points\\xa0accrual\\xa0on Spends made on\\xa0Rental and Government category payments\\n4. Points + Pay\\xa0- A maximum of 70% can be paid using Reward Points and the other 30% to be made by payment modes(Cash/Cards/UPI etc.)',)\n",
      "\n",
      "\n",
      "====================================\n",
      "Context: ('# [Diners club black metal edition](https://www.hdfcbank.com/personal/pay/cards/credit-cards/diners-club-black-metal-edition)\\n## Features\\n#### Contactless Payment\\nContactless Payment\\nThe HDFC Bank Diners Club Black Metal Credit Card is enabled for contactless payments on HDFC Bank POS machines, facilitating fast, convenient and secure payments at retail outlets. Tap the reverse side of the Black Metal card on the HDFC Bank POS machine to enjoy contactless payments.\\n(Please note that in India, payment through contactless mode is allowed for a maximum of ₹5000 for a single transaction without the need to input your Credit Card PIN. However, if the amount is higher than or equal to ₹5000, the Card holder has to enter the Credit Card PIN for security reasons)',)\n",
      "\n",
      "\n",
      "====================================\n",
      "Context: ('# [Regalia gold credit card](https://www.hdfcbank.com/personal/pay/cards/credit-cards/regalia-gold-credit-card)\\n## Features\\n#### Smart EMI\\nSmart EMI\\nHDFC Bank\\xa0Regalia Gold Credit Card comes with an option to\\xa0convert your big spends into EMI after purchase. To know more [click here](/personal/borrow/loan-against-assets/smartemi \"/personal/borrow/loan-against-assets/smartemi\")',)\n",
      "\n",
      "\n",
      "====================================\n",
      "Context: ('# [Diners club black metal edition](https://www.hdfcbank.com/personal/pay/cards/credit-cards/diners-club-black-metal-edition)\\n## Features\\n#### Golfing Benefits\\nGolfing Benefits\\n6 Complimentary Golf games every quarter across the finest courses in the world\\nTo book a golf game, reach out to concierge via:\\nCall: 1800 118 887 | 022 42320226 , Email: dinersblack.support@smartbuyoffers.co\\n[Click here](/Personal/Pay/Cards/Credit Card/Credit Card Landing Page/Credit Cards/Super Premium/Diners Privilege/HDFC_Diners_Website_T_C_v2.pdf \"/Personal/Pay/Cards/Credit Card/Credit Card Landing Page/Credit Cards/Super Premium/Diners Privilege/HDFC_Diners_Website_T_C_v2.pdf\")\\xa0for T&C',)\n",
      "\n",
      "\n",
      "====================================\n",
      "Context: ('# [Diners club black metal edition](https://www.hdfcbank.com/personal/pay/cards/credit-cards/diners-club-black-metal-edition)\\n## Features\\n#### Welcome Benefits\\nWelcome Benefits\\nAvail Complimentary Annual memberships of Club Marriott, Amazon Prime, Swiggy One on spending ₹ 1.5 Lakh within the first 90 days of card issuance.\\nEasily track your milestone spends by following these steps. Visit [offers.smartbuy.hdfcbank.com/diners](https://offers.smartbuy.hdfcbank.com/v1/diners \"https://offers.smartbuy.hdfcbank.com/v1/diners\") >> Click on Diners Club Benefits >>Diners Club Black Metal Milestones>> Check Welcome Benefits\\nClick here for [T&C](/Personal/Pay/Cards/Credit Card/Credit Card Landing Page/Credit Cards/Super Premium/Diners Club Black Metal Edition/Diners-club-black-metal-T-and-C.pdf \"/Personal/Pay/Cards/Credit Card/Credit Card Landing Page/Credit Cards/Super Premium/Diners Club Black Metal Edition/Diners-club-black-metal-T-and-C.pdf\")',)\n",
      "\n",
      "\n",
      "====================================\n",
      "Context: ('# [Diners club black](https://www.hdfcbank.com/personal/pay/cards/credit-cards/diners-club-black)\\n## Features\\n#### Smart EMI\\nSmart EMI\\nHDFC Bank Diners Club Black Credit Card comes with an option to\\nconvert your big spends into EMI after purchase. To know more [click here](/personal/borrow/loan-against-assets/smartemi \"/personal/borrow/loan-against-assets/smartemi\").',)\n",
      "\n",
      "\n",
      "====================================\n",
      "Context: ('# [Diners club black metal edition](https://www.hdfcbank.com/personal/pay/cards/credit-cards/diners-club-black-metal-edition)\\n## Features\\n#### Phone Banking\\nPhone Banking\\nToll Free: 1800 266 3310\\nLandline: 022-6171 7606 (For customers travelling overseas)\\n# [Diners club black metal edition](https://www.hdfcbank.com/personal/pay/cards/credit-cards/diners-club-black-metal-edition)\\n## Features\\n#### Concierge\\nConcierge\\nGlobal Personal Concierge – 24 X 7\\nToll free: 1800118887\\nLandline: 022 42320226\\nEmail: dinersblack.support@smartbuyoffers.co',)\n",
      "\n",
      "\n",
      "====================================\n",
      "Context: ('# [Indianoil hdfc bank credit card](https://www.hdfcbank.com/personal/pay/cards/credit-cards/indianoil-hdfc-bank-credit-card)\\n## Features\\n#### Smart EMI\\nSmart EMI\\nIndianOil HDFC Bank Credit Card\\xa0comes with an option to\\xa0convert your big spends into EMI after purchase. To know more [click here](https://www.hdfcbank.com/personal/borrow/loan-against-assets/smartemi \"https://www.hdfcbank.com/personal/borrow/loan-against-assets/smartemi\").',)\n",
      "\n",
      "\n",
      "====================================\n",
      "Context: ('# [Moneyback plus](https://www.hdfcbank.com/personal/pay/cards/credit-cards/moneyback-plus)\\n## Features\\n#### Key Features\\nFor detailed Terms and conditions [Click here](/content/api/contentstream-id/723fb80a-2dde-42a3-9793-7ae1be57c87f/a932c3e5-ff6f-43e2-8722-cb84c2530399?#/Personal/Pay/Cards/Credit Card/Credit Card Landing Page/Credit Cards/Commercial/HDFC Bank MoneyBack/Terms-and-Conditions-HDFC-Bank-MoneyBack-Credit-Card.pdf \"Terms-and-Conditions-HDFC-Bank-MoneyBack-Credit-Card.pdf\")',)\n",
      "\n",
      "\n",
      "====================================\n",
      "Context: ('# [Diners club black metal edition](https://www.hdfcbank.com/personal/pay/cards/credit-cards/diners-club-black-metal-edition)\\n## Features\\n#### Treat the foodie in you\\nTreat the foodie in you\\nEnjoy amazing dining benefits with Good Food Trail program\\nGet up to 25 % savings off on all your restaurant bill payments via Swiggy Dineout (20k + restaurants), ( Offer inclusive of Restaurant and Swiggy Discount. Offer valid only on payments done Swiggy App)\\n# [Diners club black metal edition](https://www.hdfcbank.com/personal/pay/cards/credit-cards/diners-club-black-metal-edition)\\n## Eligibility\\nHDFC Bank Diners Club Black\\xa0Metal Credit Card Eligibility:\\n**For Salaried Indian national**\\n* Age Min 21 yrs & Max 60 yrs\\n* Income: Net Monthly Income > Rs 1.75 Lakhs per month\\n**For Self Employed \\xa0Indian national**\\n* Age: Min 21 yrs & Max 65 yrs\\n* Income: ITR > Rs 21 Lakhs per annum for self-employed customers',)\n",
      "\n",
      "\n",
      "====================================\n"
     ]
    }
   ],
   "source": [
    "# Ask any question you like to this simple RAG program.\n",
    "my_question = \"Explain different types of storage classes?\"\n",
    "# Get the prediction. This contains `pred.context` and `pred.answer`.\n",
    "prediction = compiled_rag(my_question, k=10)\n",
    "\n",
    "print(f\"Answer: {prediction.answer}\")\n",
    "print(\"====================================\\n\\n\")\n",
    "\n",
    "for context in zip(prediction.context):\n",
    "    print(f\"Context: {context}\")\n",
    "    print(\"\\n\\n====================================\")\n"
   ]
  },
  {
   "cell_type": "code",
   "execution_count": null,
   "id": "e6c710f7-9abb-4646-a690-7d65f1ae20c2",
   "metadata": {},
   "outputs": [],
   "source": []
  }
 ],
 "metadata": {
  "kernelspec": {
   "display_name": "Python 3 (ipykernel)",
   "language": "python",
   "name": "python3"
  },
  "language_info": {
   "codemirror_mode": {
    "name": "ipython",
    "version": 3
   },
   "file_extension": ".py",
   "mimetype": "text/x-python",
   "name": "python",
   "nbconvert_exporter": "python",
   "pygments_lexer": "ipython3",
   "version": "3.11.5"
  }
 },
 "nbformat": 4,
 "nbformat_minor": 5
}
