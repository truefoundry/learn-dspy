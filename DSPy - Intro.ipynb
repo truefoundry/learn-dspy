{
 "cells": [
  {
   "cell_type": "markdown",
   "id": "2c03f790-bc38-4833-83c1-bce6b7d082f6",
   "metadata": {},
   "source": [
    "# DSPy"
   ]
  },
  {
   "cell_type": "markdown",
   "id": "a68a0adf-97d1-4e46-94e8-32a616a58bfa",
   "metadata": {},
   "source": [
    "## What?\n",
    "Framework to algorithmically optimizing LM prompts and weights."
   ]
  },
  {
   "cell_type": "markdown",
   "id": "bfb298f5-6290-49a1-a1ef-0e339f60d697",
   "metadata": {},
   "source": [
    "## Why?\n",
    "Using LMs to build a complex system we generally have to: \n",
    "- Break the problem down into steps\n",
    "- Prompt your LM well until each step works well in isolation\n",
    "- Tweak the steps to work well together\n",
    "- Generate synthetic examples to tune each step\n",
    "- Use these examples to finetune smaller LMs to cut costs.\n",
    "\n",
    "Currently, this is hard and messy: every time you change your pipeline, your LM, or your data, all prompts (or finetuning steps) may need to change."
   ]
  },
  {
   "cell_type": "markdown",
   "id": "ea4b790f-3593-4856-8511-f3f708b75db5",
   "metadata": {},
   "source": [
    "## How?\n",
    "DSPy breaks this process into following three abstractions:\n",
    "- **Signatures:** Abstract the input and output behaviour\n",
    "- **Modules:** Defines the flow of your program and sets up a pipeline. E.g of modules: `Predict`, `ChainOfThought`, `ProgramOfThought`, `MultiChainComparison` and `React`.\n",
    "- **Optimizers:** Also known as `Teleprompters`, it takes the program, a training set and an evaluation metric and returns a new optimized program for the required use-case. Used to train smaller LMs (student) using larger LMs (teacher).\n",
    "\n",
    "> Training Set can be small or have incomplete examples or without labels unless needed to be used in metric.\n",
    "Metric can be `Exact Match (EM)` or `F1` or any custom defined metric"
   ]
  },
  {
   "cell_type": "markdown",
   "id": "87cd9813-2afd-4189-82ac-c8f8eb664737",
   "metadata": {},
   "source": [
    "## DSPy Architecture"
   ]
  },
  {
   "cell_type": "markdown",
   "id": "8f45a43d-37a6-4e87-8916-00407f6e5099",
   "metadata": {},
   "source": [
    "![dspy_arch](./assets/dspy_arch.png)"
   ]
  },
  {
   "cell_type": "markdown",
   "id": "efb6a062-aa54-4ecf-bdb5-9cfcfb49adf2",
   "metadata": {},
   "source": [
    "### Signature:\n",
    "Use signature to tell, `what to do`, instead of `how to do`. Need not write huge prompts.\n",
    "DSPy supports inline short strings as signatures, can always write custom classes for the same.\n",
    "\n",
    "Some signatures available in DSPy:\n",
    "\n",
    "| Task                        | Signature                      |\n",
    "|-----------------------------|--------------------------------|\n",
    "| Question-Answering         | \"question -> answer\"           |\n",
    "| Summarization               | \"document -> summary\"          |\n",
    "| Sentiment classification    | \"sentence -> sentiment\"        |\n",
    "| RAG                         | \"context, question -> answer\"  |\n",
    "| MCQs with Reasoning        | \"question, choices -> reasoning, selection\" |\n"
   ]
  },
  {
   "cell_type": "markdown",
   "id": "9f1cbedc-74ac-414f-b012-1c05832c9bdd",
   "metadata": {},
   "source": [
    "### Module:\n",
    "Takes the signature and converts it into a sophisticated prompt, based on a given technique and LLM used. Can be thought of as a model layer defined in Pytorch that learns from data (input/output)."
   ]
  },
  {
   "cell_type": "markdown",
   "id": "8ac58f58-0541-4329-9c03-88f31477b927",
   "metadata": {},
   "source": [
    "### Optimizer:\n",
    "DSPy optimizer can optimize 3 things\n",
    "- LM weights\n",
    "- Instructions (Prompt/Signature)\n",
    "- Demonstrations of Input-Ouput Behaviour\n",
    "\n",
    "Current available optimizers: [https://dspy-docs.vercel.app/docs/building-blocks/optimizers#what-dspy-optimizers-are-currently-available](https://dspy-docs.vercel.app/docs/building-blocks/optimizers#what-dspy-optimizers-are-currently-available)"
   ]
  },
  {
   "cell_type": "markdown",
   "id": "4e2fe867-8f1f-4b24-a509-f13bd84d1b4a",
   "metadata": {},
   "source": [
    "#### Which optimizer should I use?\n",
    "As a rule of thumb, if you don't know where to start, use `BootstrapFewShotWithRandomSearch`.\n",
    "\n",
    "Here's the general guidance on getting started:\n",
    "- If you have `very little data`, e.g. 10 examples of your task, use `BootstrapFewShot`.\n",
    "- If you have `slightly more data`, e.g. 50 examples of your task, use `BootstrapFewShotWithRandomSearch`.\n",
    "- If you have `more data than that`, e.g. 300 examples or more, use `MIPRO`.\n",
    "- If you have been able to use one of these with a `large LM` (e.g., 7B parameters or above) and need a very efficient program, `compile` that down to a `small LM` with `BootstrapFinetune`."
   ]
  },
  {
   "cell_type": "markdown",
   "id": "732c9b43-422e-4822-a342-d08fe125088c",
   "metadata": {},
   "source": [
    "## General Workflow\n",
    "Whatever the task, the general workflow is:\n",
    "\n",
    "- Collect a little bit of data.\n",
    "- Define examples of the inputs and outputs of your program (e.g., questions and their answers). This could just be a handful of quick examples you wrote down. If large datasets exist, the more the merrier!\n",
    "- Define the modules (i.e., sub-tasks) of your program and the way they should interact together to solve your task.\n",
    "- Define some validation logic. What makes for a good run of your program? Maybe the answers need to have a certain length or stick to a particular format? Specify the logic that checks that.\n",
    "- Compile! Ask DSPy to compile your program using your data. The compiler will use your data and validation logic to optimize your program (e.g., prompts and modules) so it's efficient and effective!Iterate.\n",
    "- Repeat the process by improving your data, program, validation, or by using more advanced features of the DSPy compiler."
   ]
  },
  {
   "cell_type": "markdown",
   "id": "ae50aec8-78fe-4f21-8483-9b9abb9e2361",
   "metadata": {},
   "source": [
    "## Demo - RAG (Unoptimized)"
   ]
  },
  {
   "cell_type": "markdown",
   "id": "53d845e2-deda-40cb-a65e-47ed9f4027b0",
   "metadata": {},
   "source": [
    "We shall try RAG on truefoundry docs that are ingested in local docker based Qdrant deployment "
   ]
  },
  {
   "cell_type": "code",
   "execution_count": 1,
   "id": "78b000fb-08dc-419c-963a-b8f13730efec",
   "metadata": {},
   "outputs": [],
   "source": [
    "# First need the embedding\n",
    "from embeddings.mixedbread import MixBreadEmbeddings\n",
    "embedding_model = MixBreadEmbeddings(\n",
    "    model_name=\"mixedbread-ai/mxbai-embed-large-v1\"\n",
    ")"
   ]
  },
  {
   "cell_type": "code",
   "execution_count": 2,
   "id": "aad07409-8d31-4657-9744-d2e4735947e1",
   "metadata": {},
   "outputs": [],
   "source": [
    "# Set up Retriever\n",
    "from vectordb.qdrant import CustomQdrantRetriever, QdrantClient\n",
    "\n",
    "qdrant_client = QdrantClient(url=\"http://localhost:6333\")\n",
    "retriever = CustomQdrantRetriever(\n",
    "    qdrant_collection_name=\"creditcard\", \n",
    "    qdrant_client=qdrant_client, \n",
    "    embedding_model=embedding_model,\n",
    "    k=5,\n",
    ")\n"
   ]
  },
  {
   "cell_type": "code",
   "execution_count": 3,
   "id": "9153bd82-7329-469f-b18d-199a2162a8b7",
   "metadata": {},
   "outputs": [
    {
     "data": {
      "application/vnd.jupyter.widget-view+json": {
       "model_id": "256e634504aa4b95988c210aa2fb2a2b",
       "version_major": 2,
       "version_minor": 0
      },
      "text/plain": [
       "  0%|          | 0/1 [00:00<?, ?it/s]"
      ]
     },
     "metadata": {},
     "output_type": "display_data"
    },
    {
     "data": {
      "text/plain": [
       "[{'long_text': '# [Regalia gold credit card](https://www.hdfcbank.com/personal/pay/cards/credit-cards/regalia-gold-credit-card)\\n## Features\\n#### Contactless Payment\\nContactless Payment\\nThe HDFC Bank Regalia Gold Credit Card is enabled for contactless payments, facilitating fast, convenient and secure payments at retail outlets.\\n\\\\*To see if your Card is contactless, look for the contactless network symbol on your Card.\\n(Please note that in India, payment through contactless mode is allowed for a maximum of ₹5000 in a single transaction without being asked to input your [Credit Card PIN](/personal/pay/cards/credit-cards/forgot-card-pin \"/personal/pay/cards/credit-cards/forgot-card-pin\"). However, if the amount is higher than or equal to ₹5000, the Cardholder has to enter the Credit Card PIN for security reasons.)'},\n",
       " {'long_text': '# [Infinia credit card](https://www.hdfcbank.com/personal/pay/cards/credit-cards/infinia-credit-card)\\n## Features\\n#### Insurance/Comprehensive protection & Nominee details for Insurance\\nInsurance/Comprehensive protection & Nominee details for Insurance\\n* Accidental Air Death cover worth Rs. 3 Crore\\n* Emergency overseas hospitalization up to Rs. 50 lakhs in case of emergency\\n* Credit Shield Cover for upto 9 lakhs\\n[Click Here](https://leads.hdfcbank.com/applications/webforms/apply/HDFC_NomineeDetails/Nominee.aspx \"https://leads.hdfcbank.com/applications/webforms/apply/HDFC_NomineeDetails/Nominee.aspx\")\\xa0to update your nominee details.\\n[Click Here](/Personal/Pay/Cards/Credit Card/Credit Card Landing Page/Credit Cards/Super Premium/Infinia/Covers_Infinia.pdf \"/Personal/Pay/Cards/Credit Card/Credit Card Landing Page/Credit Cards/Super Premium/Infinia/Covers_Infinia.pdf\")\\xa0for details.'}]"
      ]
     },
     "execution_count": 3,
     "metadata": {},
     "output_type": "execute_result"
    }
   ],
   "source": [
    "# also have other keys like metadata & score\n",
    "retriever(\"What is creditcard\", k=2)"
   ]
  },
  {
   "cell_type": "code",
   "execution_count": 4,
   "id": "8487132f-a8de-40de-99ba-f9d267b490a5",
   "metadata": {},
   "outputs": [],
   "source": [
    "# Set up LLM\n",
    "from dspy import OllamaLocal\n",
    "\n",
    "llm = OllamaLocal(\n",
    "    model=\"llama3:8b\", \n",
    "    model_type=\"text\", \n",
    "    max_tokens=1024, \n",
    "    top_p=1, \n",
    "    top_k=20, \n",
    "    temperature=0.1,\n",
    "    base_url=\"http://localhost:11434\", \n",
    "    frequency_penalty=0.9,\n",
    "    presence_penalty=2\n",
    ")"
   ]
  },
  {
   "cell_type": "code",
   "execution_count": 5,
   "id": "58b81693-a7b9-4af1-8cee-dd1564c66240",
   "metadata": {},
   "outputs": [],
   "source": [
    "# Configure the settings\n",
    "import dspy\n",
    "dspy.configure(lm=llm, rm=retriever)"
   ]
  },
  {
   "cell_type": "code",
   "execution_count": 6,
   "id": "32872036-8818-4f38-95af-20331821f0b6",
   "metadata": {},
   "outputs": [],
   "source": [
    "# Generate Signature for Input\n",
    "class GenerateAnswer(dspy.Signature):\n",
    "    \"\"\"Answer the question in detail using the context.\"\"\"\n",
    "\n",
    "    context = dspy.InputField(desc=\"Contains relevant facts to answer the question\")\n",
    "    question = dspy.InputField()\n",
    "    answer = dspy.OutputField(desc=\"Detailed answer with respect to given question and context\")"
   ]
  },
  {
   "cell_type": "code",
   "execution_count": 7,
   "id": "ce9d0fb9-7f9f-47d1-8485-4d25f7cd7318",
   "metadata": {},
   "outputs": [],
   "source": [
    "class RAG(dspy.Module):\n",
    "\n",
    "    def __init__(self, k: int = 5):\n",
    "        super().__init__()\n",
    "        \n",
    "        self.k = k\n",
    "        self.retriever = dspy.Retrieve(k=self.k)\n",
    "        self.generate_answer = dspy.ChainOfThought(signature=GenerateAnswer)\n",
    "\n",
    "    def forward(self, question, k=None):\n",
    "        passages = self.retriever(question, k).passages\n",
    "        # print(\"Passages: \", passages)\n",
    "        prediction = self.generate_answer(context=passages, question=question)\n",
    "        return dspy.Prediction(context=passages, answer=prediction.answer)"
   ]
  },
  {
   "cell_type": "code",
   "execution_count": 8,
   "id": "87fcff52-9136-4f37-ae9a-dda0634ba1c9",
   "metadata": {},
   "outputs": [
    {
     "data": {
      "application/vnd.jupyter.widget-view+json": {
       "model_id": "3c20be3594fc49efbbfa8407745e0ef5",
       "version_major": 2,
       "version_minor": 0
      },
      "text/plain": [
       "  0%|          | 0/1 [00:00<?, ?it/s]"
      ]
     },
     "metadata": {},
     "output_type": "display_data"
    },
    {
     "name": "stdout",
     "output_type": "stream",
     "text": [
      "ANSWER: There are several types of credit cards offered by banks like HDFC Bank, each catering to different segments of customers with unique features and benefits.\n",
      "\n",
      "Here's a breakdown:\n",
      "\n",
      "* Infinia Credit Card (HDFC Bank): A premium card offering reward points redemption and cashback offers.\n",
      "* Regalia Gold Credit Card (HDFC Bank): A high-end card providing smart EMI options for converting big spends into easy installments.\n",
      "* Diners Club Black: A travel-focused credit card with revolving credit at a nominal interest rate, exclusive airport lounge access, and other benefits.\n",
      "\n",
      "The HDFC Bank UPI RuPay Credit Card is specifically designed to provide:\n",
      "\n",
      "1. Cashpoints:\n",
      "\t* 3% cashback on groceries, supermarkets & dining\n",
      "\t* 2% on utility spends (Maximum of ₹500 in a calendar month)\n",
      "\t* 1% on other transactions (excluding Rent, Wallet loads, EMI, Fuel, Insurance Payments & Government categories) (Maximum of ₹500 in a calendar month)\n",
      "\n",
      "These cards cater to different customer segments:\n",
      "\n",
      "* Infinia: For those seeking premium rewards and cashback offers\n",
      "* Regalia Gold: For individuals who want smart EMI options for big spends\n",
      "* Diners Club Black: For frequent travelers looking for travel-related benefits\n",
      "\n",
      "The HDFC Bank UPI RuPay Credit Card is designed with the following features in mind:\n",
      "\n",
      "1. Cashpoints on various transaction categories, including groceries and utilities.\n",
      "2. Integration with Unified Payments Interface (UPI) to facilitate seamless transactions.\n",
      "\n",
      "These credit cards offer a range of rewards, cashback offers, smart EMI options, travel benefits, or other perks tailored to specific customer needs.\n",
      "====================================\n",
      "\n",
      "\n",
      "Context: ('# [Freedom card new](https://www.hdfcbank.com/personal/pay/cards/credit-cards/freedom-card-new)\\n## Features\\n#### Additional Features\\nAdditional Features\\n**Zero lost Card liability :** In the unfortunate event of losing your HDFC Bank Freedom Credit Card, report it immediately to our 24-hour call centre. On reporting the loss immediately, you have zero liability on any fraudulent transactions made on your Credit Card.\\n**Interest Free Credit Period :** Avail up to 50 days of interest free period on your HDFC Bank Freedom Credit Card from the date of purchase (subject to the submission of the charge by the Merchant).\\n**Revolving Credit :** Enjoy Revolving Credit on your HDFC Bank Freedom [Credit Card](https://www.hdfcbank.com/personal/pay/cards/credit-cards \"https://www.hdfcbank.com/personal/pay/cards/credit-cards\") at nominal interest rate. Please refer to the Fees and Charges section for more details.\\n**Exclusive Dining Privileges :**\\u200b\\u200b\\u200b\\u200b\\u200b\\u200b\\u200bEnjoy amazing dining benefits with Good Food Trail program.',)\n",
      "\n",
      "\n",
      "====================================\n",
      "Context: ('# [Diners club black](https://www.hdfcbank.com/personal/pay/cards/credit-cards/diners-club-black)\\n## Features\\n#### Key Features\\nInternational Golf Courses (handicap certificate mandatory), [click here](/Personal/Pay/Cards/Credit Card/Credit Card Landing Page/Credit Cards/Super Premium/Diners Privilege/International Golf.pdf \"/Personal/Pay/Cards/Credit Card/Credit Card Landing Page/Credit Cards/Super Premium/Diners Privilege/International Golf.pdf\")\\n[Click here](/Personal/Pay/Cards/Credit Card/Credit Card Landing Page/Credit Cards/Super Premium/Diners Privilege/HDFC_Diners_Website_T_C_v2.pdf \"/Personal/Pay/Cards/Credit Card/Credit Card Landing Page/Credit Cards/Super Premium/Diners Privilege/HDFC_Diners_Website_T_C_v2.pdf\") for detailed T&C and FAQ on the golf program',)\n",
      "\n",
      "\n",
      "====================================\n",
      "Context: ('# [Infinia credit card](https://www.hdfcbank.com/personal/pay/cards/credit-cards/infinia-credit-card)\\n## Features\\n#### Concierge\\nConcierge\\nGlobal Personal Concierge – 24 X 7\\nCustomize your travel, entertainment, and business experiences with our Global Concierge Assistance\\n**Here are some of the services provided by our concierge.**\\n* Golf Booking\\n* Itinerary planning and reservation assistance\\n* Private dining assistance\\n* International gift delivery\\n* Event planning and referrals\\n* Airport VIP service (meet-and-greet) and much more.\\n* Toll Free No.: 1800 118 887 Landline No.: 022 42320226\\nEmail ID: Infinia.support@smartbuyoffers.co\\u200b\\u200b\\u200b\\u200b\\u200b\\n[Click here](https://www.hdfcbank.com/content/api/contentstream-id/723fb80a-2dde-42a3-9793-7ae1be57c87f/3a9d119b-53ba-4768-bb88-57c3630cbed0? \"https://www.hdfcbank.com/content/api/contentstream-id/723fb80a-2dde-42a3-9793-7ae1be57c87f/3a9d119b-53ba-4768-bb88-57c3630cbed0?\") for Concierge T&C\\nHDFC Bank Customer Service\\n**Customer care numbers:**\\nToll Free: 1800 266 3310\\nLandline: 022-6171 7606 (For customers travelling overseas)\\nE-mail: infinia.services@hdfcbank.com',)\n",
      "\n",
      "\n",
      "====================================\n",
      "Context: ('# [Marriott bonvoy credit card](https://www.hdfcbank.com/personal/pay/cards/credit-cards/marriott-bonvoy-credit-card)\\n## Features\\n#### Features\\n\\\\*[Click here](/Personal/Pay/Cards/Credit Card/Credit Card Landing Page/Credit Cards/Co-Brand/Marriott Co-Brand Credit card/Card-Benefit-Terms-Conditions-clean-HDFC-Bank-response.pdf \"/Personal/Pay/Cards/Credit Card/Credit Card Landing Page/Credit Cards/Co-Brand/Marriott Co-Brand Credit card/Card-Benefit-Terms-Conditions-clean-HDFC-Bank-response.pdf\") to view detailed Terms and Conditions\\n\\\\*\\\\*[Click here](/Personal/Pay/Cards/Credit Card/Credit Card Landing Page/Credit Cards/Co-Brand/Marriott Co-Brand Credit card/Golf-TC-Marriott.pdf \"/Personal/Pay/Cards/Credit Card/Credit Card Landing Page/Credit Cards/Co-Brand/Marriott Co-Brand Credit card/Golf-TC-Marriott.pdf\") to view detailed Terms and Conditions on Golf Lounge access',)\n",
      "\n",
      "\n",
      "====================================\n",
      "Context: ('# [Regalia gold credit card](https://www.hdfcbank.com/personal/pay/cards/credit-cards/regalia-gold-credit-card)\\n## Features\\n#### Additional Features\\nAdditional Features\\n* Zero Lost card liability : In the unfortunate event of losing your HDFC Bank Regalia Gold Credit Card, on reporting it immediately to our 24-hour call centre, you have zero liability on any fraudulent transactions made on your [Credit Card](/personal/pay/cards/credit-cards \"/personal/pay/cards/credit-cards\").\\n* Foreign Currency Markup : 2% on all your foreign currency spends.\\n* Revolving Credit : Enjoy Revolving Credit on your HDFC Bank Regalia Gold Credit Card at nominal interest rate. Refer to the Fees and Charges section to know more. [Click here](/personal/pay/cards/credit-cards/regalia-gold-credit-card/fees-and-charges \"/personal/pay/cards/credit-cards/regalia-gold-credit-card/fees-and-charges\").',)\n",
      "\n",
      "\n",
      "====================================\n",
      "Context: ('# [Regalia gold credit card](https://www.hdfcbank.com/personal/pay/cards/credit-cards/regalia-gold-credit-card)\\n## Features\\n#### Reward Point/CashBack Redemption & Validity\\n\\u200b\\u200b\\u200b\\u200b\\u200b\\u200b\\u200bPlease\\xa0[Click Here](/Personal/Pay/Cards/Credit Card/Credit Card Landing Page/Credit Cards/Super Premium/Regalia Gold Credit Card/Rewards-redemption-through-Smartbuy.pdf \"/Personal/Pay/Cards/Credit Card/Credit Card Landing Page/Credit Cards/Super Premium/Regalia Gold Credit Card/Rewards-redemption-through-Smartbuy.pdf\")\\xa0to\\xa0view reward points redemption process.\\nPlease [Click Here](/Personal/Pay/Cards/Credit Card/Credit Card Landing Page/Credit Cards/Super Premium/Regalia Gold Credit Card/Webpage-content-T-and-Cs.pdf \"/Personal/Pay/Cards/Credit Card/Credit Card Landing Page/Credit Cards/Super Premium/Regalia Gold Credit Card/Webpage-content-T-and-Cs.pdf\")\\xa0to view reward points TnC.',)\n",
      "\n",
      "\n",
      "====================================\n",
      "Context: ('# [Infinia credit card](https://www.hdfcbank.com/personal/pay/cards/credit-cards/infinia-credit-card)\\n## Features\\n#### Reward Point/CashBack Redemption & Validity\\n\\\\*Please\\xa0[click here](/Personal/Pay/Cards/Credit Card/Credit Card Landing Page/Credit Cards/Super Premium/Infinia/RP-Program-TnC.pdf \"/Personal/Pay/Cards/Credit Card/Credit Card Landing Page/Credit Cards/Super Premium/Infinia/RP-Program-TnC.pdf\")\\xa0to know more\\n[FAQs](/personal/need-help/faqs#/infinia \"FAQs\")\\n# [Infinia credit card](https://www.hdfcbank.com/personal/pay/cards/credit-cards/infinia-credit-card)\\n## Eligibility\\nMembership for the **HDFC Bank Infinia Credit Card** is By Invite Only',)\n",
      "\n",
      "\n",
      "====================================\n",
      "Context: ('# [Regalia gold credit card](https://www.hdfcbank.com/personal/pay/cards/credit-cards/regalia-gold-credit-card)\\n## Features\\n#### Smart EMI\\nSmart EMI\\nHDFC Bank\\xa0Regalia Gold Credit Card comes with an option to\\xa0convert your big spends into EMI after purchase. To know more [click here](/personal/borrow/loan-against-assets/smartemi \"/personal/borrow/loan-against-assets/smartemi\")',)\n",
      "\n",
      "\n",
      "====================================\n",
      "Context: ('# [Diners club black](https://www.hdfcbank.com/personal/pay/cards/credit-cards/diners-club-black)\\n## Features\\n#### Additional Features\\n* **Revolving Credit:** Available at a nominal interest rate on your HDFC Bank Diners Club Black Credit Card. Please refer to Fees and Charges section to know more [click here](/personal/pay/cards/credit-cards/diners-club-black/fees-and-charges \"/personal/pay/cards/credit-cards/diners-club-black/fees-and-charges\").',)\n",
      "\n",
      "\n",
      "====================================\n",
      "Context: ('# [Hdfc bank upi rupay credit card](https://www.hdfcbank.com/personal/pay/cards/credit-cards/hdfc-bank-upi-rupay-credit-card)\\n## Features\\n#### Key Features:\\nKey Features:\\n* 3% Cashpoints on Groceries, SuperMarket & Dining spends &\\xa0PayZapp transactions. (Maximum of 500 Points can be earned in a calendar month)\\n* 2% Cashpoints on Utility spends (Maximum of 500 Points can be earned in a calendar month)\\n* 1% Cashpoints on other spends (Excluding Rent, Wallet loads, EMI, Fuel, Insurance Payments & Government categories) (Maximum of 500 Points can be earned in a calendar month)\\n**Note:** The above benefits are applicable for both UPI as well as regular credit card spends.\\nFor detailed Terms & conditions\\xa0[Click here](/Personal/Pay/Cards/Credit Card/Credit Card Landing Page/Credit Cards/HDFC Bank UPI RuPay Credit Card/Terms-and-Conditions-HDFC-Bank-UPI-RuPay-Credit-Card-03042023.pdf \"/Personal/Pay/Cards/Credit Card/Credit Card Landing Page/Credit Cards/HDFC Bank UPI RuPay Credit Card/Terms-and-Conditions-HDFC-Bank-UPI-RuPay-Credit-Card-03042023.pdf\")',)\n",
      "\n",
      "\n",
      "====================================\n"
     ]
    }
   ],
   "source": [
    "# Ask any question you like to this simple RAG program.\n",
    "my_question = \"Explain different types of credit cards?\"\n",
    "uncompiled_rag = RAG(k=10)\n",
    "# Get the prediction. This contains `pred.context` and `pred.answer`.\n",
    "prediction = uncompiled_rag(my_question)\n",
    "\n",
    "print(f\"ANSWER: {prediction.answer}\")\n",
    "print(\"====================================\\n\\n\")\n",
    "\n",
    "for context in zip(prediction.context):\n",
    "    print(f\"Context: {context}\")\n",
    "    print(\"\\n\\n====================================\")\n"
   ]
  },
  {
   "cell_type": "code",
   "execution_count": 9,
   "id": "4fc56a58-ac40-4eee-a316-9f9b54b72619",
   "metadata": {},
   "outputs": [
    {
     "name": "stdout",
     "output_type": "stream",
     "text": [
      "\n",
      "\n",
      "\n",
      "\n",
      "Answer the question in detail using the context.\n",
      "\n",
      "---\n",
      "\n",
      "Follow the following format.\n",
      "\n",
      "Context: Contains relevant facts to answer the question\n",
      "\n",
      "Question: ${question}\n",
      "\n",
      "Reasoning: Let's think step by step in order to ${produce the answer}. We ...\n",
      "\n",
      "Answer: Detailed answer with respect to given question and context\n",
      "\n",
      "---\n",
      "\n",
      "Context:\n",
      "[1] «# [Freedom card new](https://www.hdfcbank.com/personal/pay/cards/credit-cards/freedom-card-new)\n",
      "## Features\n",
      "#### Additional Features\n",
      "Additional Features\n",
      "**Zero lost Card liability :** In the unfortunate event of losing your HDFC Bank Freedom Credit Card, report it immediately to our 24-hour call centre. On reporting the loss immediately, you have zero liability on any fraudulent transactions made on your Credit Card.\n",
      "**Interest Free Credit Period :** Avail up to 50 days of interest free period on your HDFC Bank Freedom Credit Card from the date of purchase (subject to the submission of the charge by the Merchant).\n",
      "**Revolving Credit :** Enjoy Revolving Credit on your HDFC Bank Freedom [Credit Card](https://www.hdfcbank.com/personal/pay/cards/credit-cards \"https://www.hdfcbank.com/personal/pay/cards/credit-cards\") at nominal interest rate. Please refer to the Fees and Charges section for more details.\n",
      "**Exclusive Dining Privileges :**​​​​​​​Enjoy amazing dining benefits with Good Food Trail program.»\n",
      "[2] «# [Diners club black](https://www.hdfcbank.com/personal/pay/cards/credit-cards/diners-club-black)\n",
      "## Features\n",
      "#### Key Features\n",
      "International Golf Courses (handicap certificate mandatory), [click here](/Personal/Pay/Cards/Credit Card/Credit Card Landing Page/Credit Cards/Super Premium/Diners Privilege/International Golf.pdf \"/Personal/Pay/Cards/Credit Card/Credit Card Landing Page/Credit Cards/Super Premium/Diners Privilege/International Golf.pdf\")\n",
      "[Click here](/Personal/Pay/Cards/Credit Card/Credit Card Landing Page/Credit Cards/Super Premium/Diners Privilege/HDFC_Diners_Website_T_C_v2.pdf \"/Personal/Pay/Cards/Credit Card/Credit Card Landing Page/Credit Cards/Super Premium/Diners Privilege/HDFC_Diners_Website_T_C_v2.pdf\") for detailed T&C and FAQ on the golf program»\n",
      "[3] «# [Infinia credit card](https://www.hdfcbank.com/personal/pay/cards/credit-cards/infinia-credit-card)\n",
      "## Features\n",
      "#### Concierge\n",
      "Concierge\n",
      "Global Personal Concierge – 24 X 7\n",
      "Customize your travel, entertainment, and business experiences with our Global Concierge Assistance\n",
      "**Here are some of the services provided by our concierge.**\n",
      "* Golf Booking\n",
      "* Itinerary planning and reservation assistance\n",
      "* Private dining assistance\n",
      "* International gift delivery\n",
      "* Event planning and referrals\n",
      "* Airport VIP service (meet-and-greet) and much more.\n",
      "* Toll Free No.: 1800 118 887 Landline No.: 022 42320226\n",
      "Email ID: Infinia.support@smartbuyoffers.co​​​​​\n",
      "[Click here](https://www.hdfcbank.com/content/api/contentstream-id/723fb80a-2dde-42a3-9793-7ae1be57c87f/3a9d119b-53ba-4768-bb88-57c3630cbed0? \"https://www.hdfcbank.com/content/api/contentstream-id/723fb80a-2dde-42a3-9793-7ae1be57c87f/3a9d119b-53ba-4768-bb88-57c3630cbed0?\") for Concierge T&C\n",
      "HDFC Bank Customer Service\n",
      "**Customer care numbers:**\n",
      "Toll Free: 1800 266 3310\n",
      "Landline: 022-6171 7606 (For customers travelling overseas)\n",
      "E-mail: infinia.services@hdfcbank.com»\n",
      "[4] «# [Marriott bonvoy credit card](https://www.hdfcbank.com/personal/pay/cards/credit-cards/marriott-bonvoy-credit-card)\n",
      "## Features\n",
      "#### Features\n",
      "\\*[Click here](/Personal/Pay/Cards/Credit Card/Credit Card Landing Page/Credit Cards/Co-Brand/Marriott Co-Brand Credit card/Card-Benefit-Terms-Conditions-clean-HDFC-Bank-response.pdf \"/Personal/Pay/Cards/Credit Card/Credit Card Landing Page/Credit Cards/Co-Brand/Marriott Co-Brand Credit card/Card-Benefit-Terms-Conditions-clean-HDFC-Bank-response.pdf\") to view detailed Terms and Conditions\n",
      "\\*\\*[Click here](/Personal/Pay/Cards/Credit Card/Credit Card Landing Page/Credit Cards/Co-Brand/Marriott Co-Brand Credit card/Golf-TC-Marriott.pdf \"/Personal/Pay/Cards/Credit Card/Credit Card Landing Page/Credit Cards/Co-Brand/Marriott Co-Brand Credit card/Golf-TC-Marriott.pdf\") to view detailed Terms and Conditions on Golf Lounge access»\n",
      "[5] «# [Regalia gold credit card](https://www.hdfcbank.com/personal/pay/cards/credit-cards/regalia-gold-credit-card)\n",
      "## Features\n",
      "#### Additional Features\n",
      "Additional Features\n",
      "* Zero Lost card liability : In the unfortunate event of losing your HDFC Bank Regalia Gold Credit Card, on reporting it immediately to our 24-hour call centre, you have zero liability on any fraudulent transactions made on your [Credit Card](/personal/pay/cards/credit-cards \"/personal/pay/cards/credit-cards\").\n",
      "* Foreign Currency Markup : 2% on all your foreign currency spends.\n",
      "* Revolving Credit : Enjoy Revolving Credit on your HDFC Bank Regalia Gold Credit Card at nominal interest rate. Refer to the Fees and Charges section to know more. [Click here](/personal/pay/cards/credit-cards/regalia-gold-credit-card/fees-and-charges \"/personal/pay/cards/credit-cards/regalia-gold-credit-card/fees-and-charges\").»\n",
      "[6] «# [Regalia gold credit card](https://www.hdfcbank.com/personal/pay/cards/credit-cards/regalia-gold-credit-card)\n",
      "## Features\n",
      "#### Reward Point/CashBack Redemption & Validity\n",
      "​​​​​​​Please [Click Here](/Personal/Pay/Cards/Credit Card/Credit Card Landing Page/Credit Cards/Super Premium/Regalia Gold Credit Card/Rewards-redemption-through-Smartbuy.pdf \"/Personal/Pay/Cards/Credit Card/Credit Card Landing Page/Credit Cards/Super Premium/Regalia Gold Credit Card/Rewards-redemption-through-Smartbuy.pdf\") to view reward points redemption process.\n",
      "Please [Click Here](/Personal/Pay/Cards/Credit Card/Credit Card Landing Page/Credit Cards/Super Premium/Regalia Gold Credit Card/Webpage-content-T-and-Cs.pdf \"/Personal/Pay/Cards/Credit Card/Credit Card Landing Page/Credit Cards/Super Premium/Regalia Gold Credit Card/Webpage-content-T-and-Cs.pdf\") to view reward points TnC.»\n",
      "[7] «# [Infinia credit card](https://www.hdfcbank.com/personal/pay/cards/credit-cards/infinia-credit-card)\n",
      "## Features\n",
      "#### Reward Point/CashBack Redemption & Validity\n",
      "\\*Please [click here](/Personal/Pay/Cards/Credit Card/Credit Card Landing Page/Credit Cards/Super Premium/Infinia/RP-Program-TnC.pdf \"/Personal/Pay/Cards/Credit Card/Credit Card Landing Page/Credit Cards/Super Premium/Infinia/RP-Program-TnC.pdf\") to know more\n",
      "[FAQs](/personal/need-help/faqs#/infinia \"FAQs\")\n",
      "# [Infinia credit card](https://www.hdfcbank.com/personal/pay/cards/credit-cards/infinia-credit-card)\n",
      "## Eligibility\n",
      "Membership for the **HDFC Bank Infinia Credit Card** is By Invite Only»\n",
      "[8] «# [Regalia gold credit card](https://www.hdfcbank.com/personal/pay/cards/credit-cards/regalia-gold-credit-card)\n",
      "## Features\n",
      "#### Smart EMI\n",
      "Smart EMI\n",
      "HDFC Bank Regalia Gold Credit Card comes with an option to convert your big spends into EMI after purchase. To know more [click here](/personal/borrow/loan-against-assets/smartemi \"/personal/borrow/loan-against-assets/smartemi\")»\n",
      "[9] «# [Diners club black](https://www.hdfcbank.com/personal/pay/cards/credit-cards/diners-club-black)\n",
      "## Features\n",
      "#### Additional Features\n",
      "* **Revolving Credit:** Available at a nominal interest rate on your HDFC Bank Diners Club Black Credit Card. Please refer to Fees and Charges section to know more [click here](/personal/pay/cards/credit-cards/diners-club-black/fees-and-charges \"/personal/pay/cards/credit-cards/diners-club-black/fees-and-charges\").»\n",
      "[10] «# [Hdfc bank upi rupay credit card](https://www.hdfcbank.com/personal/pay/cards/credit-cards/hdfc-bank-upi-rupay-credit-card)\n",
      "## Features\n",
      "#### Key Features:\n",
      "Key Features:\n",
      "* 3% Cashpoints on Groceries, SuperMarket & Dining spends & PayZapp transactions. (Maximum of 500 Points can be earned in a calendar month)\n",
      "* 2% Cashpoints on Utility spends (Maximum of 500 Points can be earned in a calendar month)\n",
      "* 1% Cashpoints on other spends (Excluding Rent, Wallet loads, EMI, Fuel, Insurance Payments & Government categories) (Maximum of 500 Points can be earned in a calendar month)\n",
      "**Note:** The above benefits are applicable for both UPI as well as regular credit card spends.\n",
      "For detailed Terms & conditions [Click here](/Personal/Pay/Cards/Credit Card/Credit Card Landing Page/Credit Cards/HDFC Bank UPI RuPay Credit Card/Terms-and-Conditions-HDFC-Bank-UPI-RuPay-Credit-Card-03042023.pdf \"/Personal/Pay/Cards/Credit Card/Credit Card Landing Page/Credit Cards/HDFC Bank UPI RuPay Credit Card/Terms-and-Conditions-HDFC-Bank-UPI-RuPay-Credit-Card-03042023.pdf\")»\n",
      "\n",
      "Question: Explain different types of credit cards?\n",
      "\n",
      "Reasoning: Let's think step by step in order to Let me break down the various types of credit cards mentioned: 1. **Infinia Credit Card**: This is a premium credit card offered by HDFC Bank, with features like reward points redemption and cashback offers. 2. **Regalia Gold Credit Card**: Another high-end offering from HDFC Bank, this card comes with smart EMI options for converting big spends into easy installments. 3. **Diners Club Black**: A travel-focused credit card that provides additional benefits such as revolving credit at a nominal interest rate and exclusive airport lounge access. These three cards cater to different segments of customers: * Infinia: For those seeking premium rewards and cashback offers * Regalia Gold: For individuals who want smart EMI options for big spends * Diners Club Black: For frequent travelers looking for travel-related benefits Now, let's look at the HDFC Bank UPI RuPay Credit Card. This card is specifically designed to provide: 1. **Cashpoints**: 3% cashback on groceries, supermarkets & dining; 2% on utility spends and 1% on other transactions 2. **UPI integration**\n",
      "\n",
      "Answer:\u001b[32m There are several types of credit cards offered by banks like HDFC Bank, each catering to different segments of customers with unique features and benefits.\n",
      "\n",
      "Here's a breakdown:\n",
      "\n",
      "* Infinia Credit Card (HDFC Bank): A premium card offering reward points redemption and cashback offers.\n",
      "* Regalia Gold Credit Card (HDFC Bank): A high-end card providing smart EMI options for converting big spends into easy installments.\n",
      "* Diners Club Black: A travel-focused credit card with revolving credit at a nominal interest rate, exclusive airport lounge access, and other benefits.\n",
      "\n",
      "The HDFC Bank UPI RuPay Credit Card is specifically designed to provide:\n",
      "\n",
      "1. Cashpoints:\n",
      "\t* 3% cashback on groceries, supermarkets & dining\n",
      "\t* 2% on utility spends (Maximum of ₹500 in a calendar month)\n",
      "\t* 1% on other transactions (excluding Rent, Wallet loads, EMI, Fuel, Insurance Payments & Government categories) (Maximum of ₹500 in a calendar month)\n",
      "\n",
      "These cards cater to different customer segments:\n",
      "\n",
      "* Infinia: For those seeking premium rewards and cashback offers\n",
      "* Regalia Gold: For individuals who want smart EMI options for big spends\n",
      "* Diners Club Black: For frequent travelers looking for travel-related benefits\n",
      "\n",
      "The HDFC Bank UPI RuPay Credit Card is designed with the following features in mind:\n",
      "\n",
      "1. Cashpoints on various transaction categories, including groceries and utilities.\n",
      "2. Integration with Unified Payments Interface (UPI) to facilitate seamless transactions.\n",
      "\n",
      "These credit cards offer a range of rewards, cashback offers, smart EMI options, travel benefits, or other perks tailored to specific customer needs.\u001b[0m\n",
      "\n",
      "\n",
      "\n"
     ]
    }
   ],
   "source": [
    "# Track llm history\n",
    "llm.inspect_history(n=1)"
   ]
  },
  {
   "cell_type": "code",
   "execution_count": null,
   "id": "e6c710f7-9abb-4646-a690-7d65f1ae20c2",
   "metadata": {},
   "outputs": [],
   "source": []
  }
 ],
 "metadata": {
  "kernelspec": {
   "display_name": "Python 3 (ipykernel)",
   "language": "python",
   "name": "python3"
  },
  "language_info": {
   "codemirror_mode": {
    "name": "ipython",
    "version": 3
   },
   "file_extension": ".py",
   "mimetype": "text/x-python",
   "name": "python",
   "nbconvert_exporter": "python",
   "pygments_lexer": "ipython3",
   "version": "3.11.5"
  }
 },
 "nbformat": 4,
 "nbformat_minor": 5
}
